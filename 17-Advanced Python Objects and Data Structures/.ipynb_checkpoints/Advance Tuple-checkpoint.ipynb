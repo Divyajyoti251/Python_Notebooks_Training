{
 "cells": [
  {
   "cell_type": "code",
   "execution_count": null,
   "id": "eaeb8366",
   "metadata": {},
   "outputs": [],
   "source": [
    "#Touples in python\n",
    "#Touple is created by placing all the items inside () in separated commas."
   ]
  },
  {
   "cell_type": "code",
   "execution_count": 6,
   "id": "88e21659",
   "metadata": {},
   "outputs": [
    {
     "data": {
      "text/plain": [
       "('mouse', [8, 4, 6], (1, 2, 3))"
      ]
     },
     "execution_count": 6,
     "metadata": {},
     "output_type": "execute_result"
    }
   ],
   "source": [
    "#Different types of touple\n",
    "#Empty touple\n",
    "my_touple = ()\n",
    "my_touple\n",
    "#Touple having integers\n",
    "int_touple = (1,2,3)\n",
    "int_touple\n",
    "#touple with mixed datatypes\n",
    "mixed_touple = (1,\"Hello\",3.4)\n",
    "mixed_touple\n",
    "#nested touple\n",
    "nested_touple =\"mouse\",[8,4,6],(1,2,3)\n",
    "nested_touple"
   ]
  },
  {
   "cell_type": "code",
   "execution_count": 8,
   "id": "193aa1db",
   "metadata": {},
   "outputs": [
    {
     "name": "stdout",
     "output_type": "stream",
     "text": [
      "<class 'str'>\n",
      "<class 'tuple'>\n"
     ]
    }
   ],
   "source": [
    "var1 = (\"Hello\")\n",
    "print(type(var1))\n",
    "var2 = (\"Hello\",)\n",
    "print(type(var2))"
   ]
  },
  {
   "cell_type": "markdown",
   "id": "0046488f",
   "metadata": {},
   "source": [
    "# Access tuple\n",
    "#1.Indexing\n"
   ]
  },
  {
   "cell_type": "code",
   "execution_count": 10,
   "id": "14107df5",
   "metadata": {},
   "outputs": [
    {
     "data": {
      "text/plain": [
       "'Hello'"
      ]
     },
     "execution_count": 10,
     "metadata": {},
     "output_type": "execute_result"
    }
   ],
   "source": [
    "#Index operator = []\n",
    "tup = 12,\"Value\",\"Hello\",12.8,90\n",
    "tup[2] #accessing the 3rd value"
   ]
  },
  {
   "cell_type": "code",
   "execution_count": 11,
   "id": "c6d26fa2",
   "metadata": {},
   "outputs": [
    {
     "data": {
      "text/plain": [
       "90"
      ]
     },
     "execution_count": 11,
     "metadata": {},
     "output_type": "execute_result"
    }
   ],
   "source": [
    "#2Negative indexing\n",
    "tup[-1] #Fetch last element of tuple"
   ]
  },
  {
   "cell_type": "code",
   "execution_count": 14,
   "id": "195f138b",
   "metadata": {},
   "outputs": [
    {
     "data": {
      "text/plain": [
       "('Hello', 12.8, 90)"
      ]
     },
     "execution_count": 14,
     "metadata": {},
     "output_type": "execute_result"
    }
   ],
   "source": [
    "#3Slicing [:]\n",
    "tup[2:]"
   ]
  },
  {
   "cell_type": "markdown",
   "id": "bba7305a",
   "metadata": {},
   "source": [
    "# Python Tuple Methods"
   ]
  }
 ],
 "metadata": {
  "kernelspec": {
   "display_name": "Python 3 (ipykernel)",
   "language": "python",
   "name": "python3"
  },
  "language_info": {
   "codemirror_mode": {
    "name": "ipython",
    "version": 3
   },
   "file_extension": ".py",
   "mimetype": "text/x-python",
   "name": "python",
   "nbconvert_exporter": "python",
   "pygments_lexer": "ipython3",
   "version": "3.9.6"
  }
 },
 "nbformat": 4,
 "nbformat_minor": 5
}
