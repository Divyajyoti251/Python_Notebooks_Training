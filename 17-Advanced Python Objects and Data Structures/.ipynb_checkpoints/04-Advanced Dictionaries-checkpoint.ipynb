{
 "cells": [
  {
   "cell_type": "markdown",
   "metadata": {},
   "source": [
    "# Advanced Dictionaries\n",
    "Unlike some of the other Data Structures we've worked with, most of the really useful methods available to us in Dictionaries have already been explored throughout this course. Here we will touch on just a few more for good measure:"
   ]
  },
  {
   "cell_type": "raw",
   "metadata": {},
   "source": [
    "Dictionary - Python dictionary is an ordered collection of items which stores element in key/value pair,Where keys are unique indetifiers that are associated with each values. Ex- \n",
    "Key       Values\n",
    "Nepal     kathamandu\n",
    "Italy     Rome\n",
    "England   London"
   ]
  },
  {
   "cell_type": "markdown",
   "metadata": {},
   "source": [
    "# Creat a Dictionary in Python"
   ]
  },
  {
   "cell_type": "code",
   "execution_count": 2,
   "metadata": {},
   "outputs": [
    {
     "data": {
      "text/plain": [
       "dict"
      ]
     },
     "execution_count": 2,
     "metadata": {},
     "output_type": "execute_result"
    }
   ],
   "source": [
    "capital_city = {\"Nepal\":\"Kathmandu\",\"Italy\":\"Rome\",\"Engalnd\":\"London\"}\n",
    "capital_city\n",
    "type(capital_city)"
   ]
  },
  {
   "cell_type": "raw",
   "metadata": {},
   "source": [
    "In the above example , Keys are \"Nepal\",\"Italy\",\"England\"\n",
    "Values are \"Kathmandu\",\"Rome\",\"London\"  \n",
    "Here keys and values are of string data type. But we can also have keys and values of different data types"
   ]
  },
  {
   "cell_type": "code",
   "execution_count": 21,
   "metadata": {},
   "outputs": [
    {
     "data": {
      "text/plain": [
       "{1: 'One', 2: 'Two', 3: 'Three'}"
      ]
     },
     "execution_count": 21,
     "metadata": {},
     "output_type": "execute_result"
    }
   ],
   "source": [
    "numbers = {1:\"One\",2:\"Two\",3:\"Three\"}\n",
    "numbers\n",
    "#Here keys are of integer data types and values are of string data types"
   ]
  },
  {
   "cell_type": "markdown",
   "metadata": {},
   "source": [
    "#Add elements to a python Dictionary\n",
    "We can add elements to the dictionary using the name of the dictionary with []."
   ]
  },
  {
   "cell_type": "code",
   "execution_count": 8,
   "metadata": {},
   "outputs": [
    {
     "name": "stdout",
     "output_type": "stream",
     "text": [
      "Before adding value to the dictionary :  {1: 'One', 2: 'Two', 3: 'Three'}\n",
      "After adding value to the dictionary: {1: 'One', 2: 'Two', 3: 'Three', 4: 'Four'}\n"
     ]
    }
   ],
   "source": [
    "print(\"Before adding value to the dictionary : \" , numbers)\n",
    "numbers[4] = \"Four\"\n",
    "print(\"After adding value to the dictionary:\" , numbers)"
   ]
  },
  {
   "cell_type": "code",
   "execution_count": 22,
   "metadata": {},
   "outputs": [
    {
     "name": "stdout",
     "output_type": "stream",
     "text": [
      "Before changing the value of numbers[2] Two\n",
      "After changing the value of number[2] Changed Two\n"
     ]
    }
   ],
   "source": [
    "#Change the value of dictionary\n",
    "#we can change the value by using [] with particular key.\n",
    "\n",
    "print(\"Before changing the value of numbers[2]\",numbers[2])\n",
    "numbers[2] = \"Changed Two\"\n",
    "print(\"After changing the value of number[2]\", numbers[2])"
   ]
  },
  {
   "cell_type": "code",
   "execution_count": 19,
   "metadata": {},
   "outputs": [
    {
     "name": "stdout",
     "output_type": "stream",
     "text": [
      "Four\n"
     ]
    }
   ],
   "source": [
    "print(numbers[4])"
   ]
  },
  {
   "cell_type": "code",
   "execution_count": 23,
   "metadata": {},
   "outputs": [
    {
     "name": "stdout",
     "output_type": "stream",
     "text": [
      "Initial dictionary : {1: 'One', 2: 'Changed Two', 3: 'Three'}\n",
      "Updated dictionary : {1: 'One', 3: 'Three'}\n"
     ]
    }
   ],
   "source": [
    "#Removing elements from dictionary\n",
    "# we use del statement to remove an element from the dictionary.\n",
    "\n",
    "print(\"Initial dictionary :\" , numbers)\n",
    "del numbers[2]\n",
    "print(\"Updated dictionary :\" , numbers)\n",
    "del numbers\n",
    "#print(numbers)"
   ]
  },
  {
   "cell_type": "markdown",
   "metadata": {},
   "source": [
    "# Python Dictionary methods\n",
    "all(),any(),len(),sorted(),clear(),keys(),values()\n",
    "\n",
    "#Dictionary Membership Test\n"
   ]
  },
  {
   "cell_type": "code",
   "execution_count": 26,
   "metadata": {},
   "outputs": [
    {
     "name": "stdout",
     "output_type": "stream",
     "text": [
      "True\n",
      "True\n",
      "False\n"
     ]
    }
   ],
   "source": [
    "squares ={1:1,3:9,5:25,7:49,9:81}\n",
    "print(1 in squares)\n",
    "print(2 not in squares)\n",
    "print(49 in squares)\n",
    "#membership test is only for the keys and not for the values"
   ]
  },
  {
   "cell_type": "code",
   "execution_count": 29,
   "metadata": {},
   "outputs": [
    {
     "name": "stdout",
     "output_type": "stream",
     "text": [
      "1\n",
      "9\n",
      "25\n",
      "49\n",
      "81\n"
     ]
    }
   ],
   "source": [
    "#iterateing through a dictionary\n",
    "for i in squares:\n",
    "    print(squares[i])"
   ]
  },
  {
   "cell_type": "markdown",
   "metadata": {},
   "source": [
    "## Dictionary Comprehensions\n",
    "\n",
    "Just like List Comprehensions, Dictionary Data Types also support their own version of comprehension for quick creation. It is not as commonly used as List Comprehensions, but the syntax is:"
   ]
  },
  {
   "cell_type": "code",
   "execution_count": 30,
   "metadata": {},
   "outputs": [
    {
     "data": {
      "text/plain": [
       "{0: 0, 1: 1, 2: 4, 3: 9, 4: 16, 5: 25, 6: 36, 7: 49, 8: 64, 9: 81}"
      ]
     },
     "execution_count": 30,
     "metadata": {},
     "output_type": "execute_result"
    }
   ],
   "source": [
    "{x:x**2 for x in range(10)}"
   ]
  },
  {
   "cell_type": "markdown",
   "metadata": {},
   "source": [
    "One of the reasons it is not as common is the difficulty in structuring key names that are not based off the values."
   ]
  },
  {
   "cell_type": "markdown",
   "metadata": {},
   "source": [
    "## Iteration over keys, values, and items\n",
    "Dictionaries can be iterated over using the keys(), values() and items() methods. For example:"
   ]
  },
  {
   "cell_type": "code",
   "execution_count": 31,
   "metadata": {},
   "outputs": [],
   "source": [
    "d = {'k1':1,'k2':2}"
   ]
  },
  {
   "cell_type": "code",
   "execution_count": 34,
   "metadata": {},
   "outputs": [
    {
     "name": "stdout",
     "output_type": "stream",
     "text": [
      "dict_values([1, 2])\n",
      "k1\n",
      "k2\n"
     ]
    }
   ],
   "source": [
    "print(d.values())\n",
    "for k in d.keys():\n",
    "    print(k)"
   ]
  },
  {
   "cell_type": "code",
   "execution_count": 35,
   "metadata": {},
   "outputs": [
    {
     "name": "stdout",
     "output_type": "stream",
     "text": [
      "1\n",
      "2\n"
     ]
    }
   ],
   "source": [
    "for v in d.values():\n",
    "    print(v)"
   ]
  },
  {
   "cell_type": "code",
   "execution_count": 5,
   "metadata": {},
   "outputs": [
    {
     "name": "stdout",
     "output_type": "stream",
     "text": [
      "('k1', 1)\n",
      "('k2', 2)\n"
     ]
    }
   ],
   "source": [
    "for item in d.items():\n",
    "    print(item)"
   ]
  },
  {
   "cell_type": "markdown",
   "metadata": {},
   "source": [
    "# Viewing keys, values and items\n",
    "By themselves the keys(), values() and items() methods return a dictionary *view object*. This is not a separate list of items. Instead, the view is always tied to the original dictionary."
   ]
  },
  {
   "cell_type": "code",
   "execution_count": 36,
   "metadata": {},
   "outputs": [
    {
     "data": {
      "text/plain": [
       "dict_keys(['k1', 'k2'])"
      ]
     },
     "execution_count": 36,
     "metadata": {},
     "output_type": "execute_result"
    }
   ],
   "source": [
    "key_view = d.keys()\n",
    "\n",
    "key_view"
   ]
  },
  {
   "cell_type": "code",
   "execution_count": 37,
   "metadata": {},
   "outputs": [
    {
     "data": {
      "text/plain": [
       "{'k1': 1, 'k2': 2, 'k3': 3}"
      ]
     },
     "execution_count": 37,
     "metadata": {},
     "output_type": "execute_result"
    }
   ],
   "source": [
    "d['k3'] = 3\n",
    "\n",
    "d"
   ]
  },
  {
   "cell_type": "code",
   "execution_count": 38,
   "metadata": {},
   "outputs": [
    {
     "data": {
      "text/plain": [
       "dict_keys(['k1', 'k2', 'k3'])"
      ]
     },
     "execution_count": 38,
     "metadata": {},
     "output_type": "execute_result"
    }
   ],
   "source": [
    "key_view"
   ]
  },
  {
   "cell_type": "code",
   "execution_count": 42,
   "metadata": {},
   "outputs": [
    {
     "name": "stdout",
     "output_type": "stream",
     "text": [
      "1\n",
      "461168601842738689\n",
      "166392486545172486\n",
      "-3550055125485641917\n"
     ]
    }
   ],
   "source": [
    "# All the keys that is used inside a dictionary has to be unique. And thay must be immutable.\n",
    "print(hash(1))\n",
    "print(hash(1.2))\n",
    "print(hash(\"dataquest\"))\n",
    "print(hash((1,2)))"
   ]
  },
  {
   "cell_type": "code",
   "execution_count": 44,
   "metadata": {},
   "outputs": [
    {
     "name": "stdout",
     "output_type": "stream",
     "text": [
      "Result dictionary : {'Ten': 10, 'Twenty': 20, 'Thirty': 30}\n",
      "Using loop updated dictionary is : {'Ten': 10, 'Twenty': 20, 'Thirty': 30}\n"
     ]
    }
   ],
   "source": [
    "#wap to convert two list into dictionary\n",
    "keys = ['Ten','Twenty','Thirty']\n",
    "values = [10,20,30]\n",
    "#use zip function to merge two list\n",
    "res_dict = dict(zip(keys,values))\n",
    "print(\"Result dictionary :\",res_dict)\n",
    "\n",
    "#using loop and update method of dictionary\n",
    "res_dict = dict()\n",
    "for i in range(len(keys)):\n",
    "    res_dict.update({keys[i]: values[i]})\n",
    "\n",
    "print(\"Using loop updated dictionary is :\",res_dict)"
   ]
  },
  {
   "cell_type": "code",
   "execution_count": 46,
   "metadata": {},
   "outputs": [
    {
     "name": "stdout",
     "output_type": "stream",
     "text": [
      "Combined dict: {'Ten': 10, 'Twenty': 20, 'Thirty': 30, 'Fourty': 40}\n",
      "Using update method: {'Ten': 10, 'Twenty': 20, 'Thirty': 30, 'Fourty': 40}\n"
     ]
    }
   ],
   "source": [
    "#wap to merge two dictionaries into one\n",
    "dict1={'Ten':10,'Twenty':20}\n",
    "dict2={'Thirty':30,'Fourty':40}\n",
    "#Expected output = {'Ten':10,'Twenty':20,'Thirty':30,'Fourty':40}\n",
    "\n",
    "#solution for version 3.5+\n",
    "dict3 = {**dict1,**dict2}\n",
    "print(\"Combined dict:\",dict3)\n",
    "\n",
    "# older version\n",
    "dict3 = dict1.copy()\n",
    "dict3.update(dict2)\n",
    "print(\"Using update method:\",dict3)"
   ]
  },
  {
   "cell_type": "code",
   "execution_count": 51,
   "metadata": {},
   "outputs": [
    {
     "name": "stdout",
     "output_type": "stream",
     "text": [
      "80\n"
     ]
    }
   ],
   "source": [
    "#wap to print the value of key 'history' from the below dict\n",
    "\n",
    "sampleDict = {\n",
    "    \"class\":{\n",
    "        \"student\":{\n",
    "            \"name\":\"Mike\",\n",
    "            \"marks\":{\n",
    "                \"physics\":70,\n",
    "                \"history\":80\n",
    "            }\n",
    "        }\n",
    "    }\n",
    "}\n",
    "\n",
    "print(sampleDict['class']['student']['marks']['history'])"
   ]
  },
  {
   "cell_type": "code",
   "execution_count": 53,
   "metadata": {},
   "outputs": [
    {
     "name": "stdout",
     "output_type": "stream",
     "text": [
      "{'kelly': {'designation': 'Developer', 'salary': 80000}, 'Emma': {'designation': 'Developer', 'salary': 80000}}\n",
      "{'designation': 'Developer', 'salary': 80000}\n"
     ]
    }
   ],
   "source": [
    "#wap to initialize dictionary with default values\n",
    "employess = ['kelly','Emma']\n",
    "defaults = {'designation':'Developer','salary':80000}\n",
    "\n",
    "#using fromkeys() method of dictionary\n",
    "\n",
    "res = dict.fromkeys(employess,defaults)\n",
    "print(res)\n",
    "print(res['kelly'])"
   ]
  },
  {
   "cell_type": "code",
   "execution_count": 55,
   "metadata": {},
   "outputs": [
    {
     "name": "stdout",
     "output_type": "stream",
     "text": [
      "New Dictionary is : {'name': 'kelly', 'salary': 8000}\n",
      "Second method Resultant Dictionary:  {'name': 'kelly', 'salary': 8000}\n"
     ]
    }
   ],
   "source": [
    "#wap to create a dictionary by extracting the keys from given dictionary\n",
    "sample_dict = {\n",
    "    \"name\":\"kelly\",\n",
    "    \"age\":25,\n",
    "    \"salary\":8000,\n",
    "    \"city\":\"New York\"\n",
    "}\n",
    "keys = [\"name\",\"salary\"]\n",
    "#Expected output : {\"name\":\"kelly\",\"salary\":8000}\n",
    "newDict = {k:sample_dict[k] for k in keys}\n",
    "print(\"New Dictionary is :\",newDict)\n",
    "\n",
    "#Second way of doing this\n",
    "\n",
    "res = dict()\n",
    "for k in keys:\n",
    "    res.update({k:sample_dict[k]})\n",
    "\n",
    "print(\"Second method Resultant Dictionary: \",res)"
   ]
  },
  {
   "cell_type": "code",
   "execution_count": 58,
   "metadata": {},
   "outputs": [
    {
     "name": "stdout",
     "output_type": "stream",
     "text": [
      "{'salary': 8000, 'name': 'kelly'}\n"
     ]
    }
   ],
   "source": [
    "#wap to delete a list of keys from a dictionary\n",
    "sample_dict = {\n",
    "    \"name\":\"kelly\",\n",
    "    \"age\":25,\n",
    "    \"salary\":8000,\n",
    "    \"city\":\"New York\"\n",
    "}\n",
    "#keys to remove\n",
    "keys = [\"age\",\"city\"]\n",
    "\n",
    "#for k in keys:\n",
    "    #sample_dict.pop(k)\n",
    "\n",
    "#print(\"After deletion :\",sample_dict)\n",
    "\n",
    "#Second way of doing this using comprehension\n",
    "\n",
    "result = {k:sample_dict[k] for k in sample_dict.keys()-keys}\n",
    "\n",
    "print(result)\n"
   ]
  },
  {
   "cell_type": "code",
   "execution_count": 60,
   "metadata": {},
   "outputs": [
    {
     "name": "stdout",
     "output_type": "stream",
     "text": [
      "Not present in the dict\n"
     ]
    }
   ],
   "source": [
    "#wap to check if a value exists in a dictionary\n",
    "\n",
    "sample_dict = {'a':100,'b':200,'c':300}\n",
    "\n",
    "if 201 in sample_dict.values():\n",
    "    print(\"200 is present in the dict\")\n",
    "else:\n",
    "    print(\"Not present in the dict\")"
   ]
  },
  {
   "cell_type": "code",
   "execution_count": 61,
   "metadata": {},
   "outputs": [
    {
     "name": "stdout",
     "output_type": "stream",
     "text": [
      "Renamed dictionary is : {'name': 'kelly', 'age': 25, 'salary': 8000, 'location': 'New York'}\n"
     ]
    }
   ],
   "source": [
    "#wap to rename key of a dictionary\n",
    "sample_dict = {\n",
    "    \"name\":\"kelly\",\n",
    "    \"age\":25,\n",
    "    \"salary\":8000,\n",
    "    \"city\":\"New York\"\n",
    "}\n",
    "\n",
    "#rename city--> location\n",
    "sample_dict['location'] = sample_dict.pop('city')\n",
    "print(\"Renamed dictionary is :\",sample_dict)"
   ]
  },
  {
   "cell_type": "code",
   "execution_count": 63,
   "metadata": {},
   "outputs": [
    {
     "name": "stdout",
     "output_type": "stream",
     "text": [
      "history\n"
     ]
    }
   ],
   "source": [
    "#wap to get the key of minimum value from the given dictionary\n",
    "sample_dict={\n",
    "    'physics':82,\n",
    "    'maths':65,\n",
    "    'history':15\n",
    "}\n",
    "\n",
    "print(min(sample_dict,key=sample_dict.get))"
   ]
  },
  {
   "cell_type": "code",
   "execution_count": 66,
   "metadata": {},
   "outputs": [
    {
     "name": "stdout",
     "output_type": "stream",
     "text": [
      "Updated salary is : {'emp1': {'name': 'Jhon', 'salary': 7500}, 'emp2': {'name': 'Emma', 'salary': 8000}, 'emp3': {'name': 'Brad', 'salary': 8500}}\n"
     ]
    }
   ],
   "source": [
    "#Wap to change the value of key in a nested dictionary\n",
    "sample_dict = {\n",
    "    'emp1':{'name':'Jhon','salary':7500},\n",
    "    'emp2':{'name':'Emma','salary':8000},\n",
    "    'emp3':{'name':'Brad','salary':500},\n",
    "}\n",
    "\n",
    "#expected ouptut : sample_dict = {\n",
    " #   'emp1':{'name':'Jhon','salary':7500},\n",
    "#  'emp2':{'name':'Emma','salary':8000},\n",
    " #   'emp3':{'name':'Brad','salary':8500},\n",
    "#}\n",
    "sample_dict['emp3']['salary'] = 8500\n",
    "print(\"Updated salary is :\", sample_dict)"
   ]
  },
  {
   "cell_type": "raw",
   "metadata": {},
   "source": [
    "#wap to Sort dictionary by values(Ascending/Descending)\n",
    "import operator\n",
    "dict = {'key1':122,'key2': 93,'key3':121}\n",
    "print(\"Original Dictionary :\",dict)\n",
    "#in ascending order\n",
    "print(\"In ascending by value :\", sorted(dict.items(),key=operator.itemgetter(1)))\n",
    "\n",
    "#in descending order \n",
    "print(\"In Descending by value :\", sorted(dict.items(),key=operator.itemgetter(1),))\n"
   ]
  },
  {
   "cell_type": "markdown",
   "metadata": {},
   "source": [
    "Great! You should now feel very comfortable using the variety of methods available to you in Dictionaries!"
   ]
  }
 ],
 "metadata": {
  "kernelspec": {
   "display_name": "Python 3 (ipykernel)",
   "language": "python",
   "name": "python3"
  },
  "language_info": {
   "codemirror_mode": {
    "name": "ipython",
    "version": 3
   },
   "file_extension": ".py",
   "mimetype": "text/x-python",
   "name": "python",
   "nbconvert_exporter": "python",
   "pygments_lexer": "ipython3",
   "version": "3.9.6"
  }
 },
 "nbformat": 4,
 "nbformat_minor": 1
}
