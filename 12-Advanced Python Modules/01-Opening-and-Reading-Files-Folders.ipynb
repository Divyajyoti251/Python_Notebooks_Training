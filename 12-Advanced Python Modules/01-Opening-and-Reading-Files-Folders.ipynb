{
 "cells": [
  {
   "cell_type": "markdown",
   "metadata": {},
   "source": [
    "___\n",
    "\n",
    "<a href='https://www.udemy.com/user/joseportilla/'><img src='../Pierian_Data_Logo.png'/></a>\n",
    "___\n",
    "<center><em>Content Copyright by Pierian Data</em></center>"
   ]
  },
  {
   "cell_type": "markdown",
   "metadata": {},
   "source": [
    "# Opening and Reading Files\n",
    "\n",
    "So far we've discussed how to open files manually, one by one. Let's explore how we can open files programatically. "
   ]
  },
  {
   "cell_type": "markdown",
   "metadata": {
    "collapsed": true
   },
   "source": [
    "_____"
   ]
  },
  {
   "cell_type": "markdown",
   "metadata": {},
   "source": [
    "### Review: Understanding File Paths"
   ]
  },
  {
   "cell_type": "code",
   "execution_count": 1,
   "metadata": {},
   "outputs": [
    {
     "data": {
      "text/plain": [
       "'C:\\\\Users\\\\DivyaJyoti Kumar\\\\OneDrive\\\\Desktop\\\\Python\\\\Complete-Python-3-Bootcamp-master\\\\Complete-Python-3-Bootcamp-master\\\\12-Advanced Python Modules'"
      ]
     },
     "execution_count": 1,
     "metadata": {},
     "output_type": "execute_result"
    }
   ],
   "source": [
    "pwd"
   ]
  },
  {
   "cell_type": "markdown",
   "metadata": {},
   "source": [
    "### Create Practice File\n",
    "\n",
    "We will begin by creating a practice text file that we will be using for demonstration.\n",
    "\n",
    "Python too supports file handling and allows users to handle files i.e., to read and write files, along with many other file handling options, to operate on files. The concept of file handling has stretched over various other languages, but the implementation is either complicated or lengthy, but like other concepts of Python, this concept here is also easy and short. Python treats files differently as text or binary and this is important. Each line of code includes a sequence of characters and they form a text file. Each line of a file is terminated with a special character, called the EOL or End of Line characters like comma {,} or newline character. It ends the current line and tells the interpreter a new one has begun. Let’s start with the reading and writing files. \n",
    "\n",
    "**Working of open() function**\n",
    "\n",
    "Before performing any operation on the file like reading or writing, first, we have to open that file. For this, we should use Python’s inbuilt function open() but at the time of opening, we have to specify the mode, which represents the purpose of the opening file.\n",
    "\n",
    "<Code>f = open(filename, mode)</Code>\n",
    "\n",
    "Where the following mode is supported:\n",
    "\n",
    "    r: open an existing file for a read operation.\n",
    "    w: open an existing file for a write operation. If the file already contains some data then it will be overridden but if the        file is not present then it creates the file as well.\n",
    "    a:  open an existing file for append operation. It won’t override existing data.\n",
    "    r+:  To read and write data into the file. The previous data in the file will be overridden.\n",
    "    w+: To write and read data. It will override existing data.\n",
    "    a+: To append and read data from the file. It won’t override existing data.\n",
    "    Take a look at the below example:"
   ]
  },
  {
   "cell_type": "code",
   "execution_count": 2,
   "metadata": {},
   "outputs": [
    {
     "name": "stdout",
     "output_type": "stream",
     "text": [
      "This is the write command\n",
      "\n",
      "It allows us to write in a particular file\n",
      "\n",
      "This will add this lineThis will add another line\n"
     ]
    }
   ],
   "source": [
    "# a file named \"geek\", will be opened with the reading mode.\n",
    "file = open('geek.txt', 'r')\n",
    "# This will print every line one by one in the file\n",
    "for each in file:\n",
    "\tprint (each)\n"
   ]
  },
  {
   "cell_type": "markdown",
   "metadata": {},
   "source": [
    "The open command will open the file in the read mode and the for loop will print each line present in the file.\n",
    "\n",
    "**Working of read() mode**\n",
    "\n",
    "There is more than one way to read a file in Python. If you need to extract a string that contains all characters in the file then we can use file.read(). The full code would work like this: "
   ]
  },
  {
   "cell_type": "code",
   "execution_count": 24,
   "metadata": {},
   "outputs": [
    {
     "name": "stdout",
     "output_type": "stream",
     "text": [
      "This is the write command\n",
      "It allows us to write in a particular file\n",
      "This will add this line\n"
     ]
    }
   ],
   "source": [
    "# Python code to illustrate read() mode\n",
    "file = open(\"geek.txt\", \"r\")\n",
    "print (file.read())\n"
   ]
  },
  {
   "cell_type": "markdown",
   "metadata": {},
   "source": [
    "Another way to read a file is to call a certain number of characters like in the following code the interpreter will read the first five characters of stored data and return it as a string: "
   ]
  },
  {
   "cell_type": "code",
   "execution_count": 3,
   "metadata": {},
   "outputs": [
    {
     "name": "stdout",
     "output_type": "stream",
     "text": [
      "This is the write command\n",
      "It allows us to write in\n"
     ]
    }
   ],
   "source": [
    "# Python code to illustrate read() mode character wise\n",
    "file = open(\"geek.txt\", \"r\")\n",
    "print (file.read(50))\n"
   ]
  },
  {
   "cell_type": "markdown",
   "metadata": {},
   "source": [
    "**Creating a file using write() mode**\n",
    "\n",
    "Let’s see how to create a file and how the write mode works, so in order to manipulate the file, write the following in your Python environment: "
   ]
  },
  {
   "cell_type": "code",
   "execution_count": 4,
   "metadata": {},
   "outputs": [],
   "source": [
    "# Python code to create a file\n",
    "file = open('geek_write.txt','w')\n",
    "file.write(\"This is the write command\")\n",
    "file.write(\"It allows us to write in a particular file\")\n",
    "file.close()\n"
   ]
  },
  {
   "cell_type": "markdown",
   "metadata": {},
   "source": [
    "The close() command terminates all the resources in use and frees the system of this particular program. \n",
    "\n",
    "**Working of append() mode**\n",
    "\n",
    "Let us see how the append mode works: "
   ]
  },
  {
   "cell_type": "code",
   "execution_count": 5,
   "metadata": {},
   "outputs": [],
   "source": [
    "# Python code to illustrate append() mode\n",
    "file = open('geek.txt', 'a')\n",
    "file.write(\"This will add another line\")\n",
    "file.close()\n"
   ]
  },
  {
   "cell_type": "markdown",
   "metadata": {},
   "source": [
    "There are also various other commands in file handling that is used to handle various tasks like: \n",
    "\n",
    "     rstrip(): This function strips each line of a file off spaces from the right-hand side.\n",
    "    lstrip(): This function strips each line of a file off spaces from the left-hand side.\n",
    "It is designed to provide much cleaner syntax and exception handling when you are working with code. That explains why it’s good practice to use them with a statement where applicable. This is helpful because using this method any files opened will be closed automatically after one is done, so auto-cleanup. "
   ]
  },
  {
   "cell_type": "code",
   "execution_count": 6,
   "metadata": {},
   "outputs": [
    {
     "name": "stdout",
     "output_type": "stream",
     "text": [
      "This is the write command\n",
      "It allows us to write in a particular file\n",
      "This will add this lineThis will add another lineThis will add another line\n"
     ]
    }
   ],
   "source": [
    "# Python code to illustrate with()\n",
    "with open(\"geek.txt\") as file:\n",
    "\tdata = file.read()\n",
    "# do something with data\n",
    "print(data)\n"
   ]
  },
  {
   "cell_type": "markdown",
   "metadata": {},
   "source": [
    "**Using write along with the with() function**\n",
    "\n",
    "We can also use the write function along with the  with() function: "
   ]
  },
  {
   "cell_type": "code",
   "execution_count": 7,
   "metadata": {},
   "outputs": [],
   "source": [
    "# Python code to illustrate with() alongwith write()\n",
    "with open(\"geek1.txt\", \"w\") as f:\n",
    "\tf.write(\"Hello World!!!\")\n"
   ]
  },
  {
   "cell_type": "markdown",
   "metadata": {},
   "source": [
    "**split() using file handling**\n",
    "\n",
    "We can also split lines using file handling in Python. This splits the variable when space is encountered. You can also split using any characters as we wish. Here is the code:"
   ]
  },
  {
   "cell_type": "code",
   "execution_count": 32,
   "metadata": {},
   "outputs": [
    {
     "name": "stdout",
     "output_type": "stream",
     "text": [
      "['This', 'is', 'the', 'write', 'command']\n",
      "['It', 'allows', 'us', 'to', 'write', 'in', 'a', 'particular', 'file']\n",
      "['This', 'will', 'add', 'this', 'lineThis', 'will', 'add', 'another', 'line']\n"
     ]
    }
   ],
   "source": [
    "# Python code to illustrate split() function\n",
    "with open(\"geek.txt\", \"r\") as file:\n",
    "\tdata = file.readlines()\n",
    "\tfor line in data:\n",
    "\t\tword = line.split()\n",
    "\t\tprint (word)\n"
   ]
  },
  {
   "cell_type": "markdown",
   "metadata": {},
   "source": [
    "The readlines() are used to read all the lines at a single go and then return them as each line a string element in a list. This function can be used for small files"
   ]
  },
  {
   "cell_type": "code",
   "execution_count": 9,
   "metadata": {},
   "outputs": [
    {
     "name": "stdout",
     "output_type": "stream",
     "text": [
      "Total Number of lines: 4\n"
     ]
    }
   ],
   "source": [
    "with open(r\"geek.txt\", 'r') as fp:\n",
    "\tlines = len(fp.readlines())\n",
    "\tprint('Total Number of lines:', lines)\n"
   ]
  },
  {
   "cell_type": "markdown",
   "metadata": {},
   "source": [
    "There are also various other functions that help to manipulate the files and their contents. One can explore various other functions in Python Docs.\n",
    "\n",
    "Example: Implementing all the functions in file handling"
   ]
  },
  {
   "cell_type": "code",
   "execution_count": 10,
   "metadata": {},
   "outputs": [
    {
     "name": "stdout",
     "output_type": "stream",
     "text": [
      "File example.txt created successfully.\n",
      "Hello, world!\n",
      "\n",
      "Text appended to file example.txt successfully.\n",
      "Hello, world!\n",
      "This is some additional text.\n",
      "\n",
      "File example.txt renamed to new_example.txt successfully.\n",
      "Hello, world!\n",
      "This is some additional text.\n",
      "\n",
      "File new_example.txt deleted successfully.\n"
     ]
    }
   ],
   "source": [
    "import os\n",
    "\n",
    "def create_file(filename):\n",
    "\ttry:\n",
    "\t\twith open(filename, 'w') as f:\n",
    "\t\t\tf.write('Hello, world!\\n')\n",
    "\t\tprint(\"File \" + filename + \" created successfully.\")\n",
    "\texcept IOError:\n",
    "\t\tprint(\"Error: could not create file \" + filename)\n",
    "\n",
    "def read_file(filename):\n",
    "\ttry:\n",
    "\t\twith open(filename, 'r') as f:\n",
    "\t\t\tcontents = f.read()\n",
    "\t\t\tprint(contents)\n",
    "\texcept IOError:\n",
    "\t\tprint(\"Error: could not read file \" + filename)\n",
    "\n",
    "def append_file(filename, text):\n",
    "\ttry:\n",
    "\t\twith open(filename, 'a') as f:\n",
    "\t\t\tf.write(text)\n",
    "\t\tprint(\"Text appended to file \" + filename + \" successfully.\")\n",
    "\texcept IOError:\n",
    "\t\tprint(\"Error: could not append to file \" + filename)\n",
    "\n",
    "def rename_file(filename, new_filename):\n",
    "\ttry:\n",
    "\t\tos.rename(filename, new_filename)\n",
    "\t\tprint(\"File \" + filename + \" renamed to \" + new_filename + \" successfully.\")\n",
    "\texcept IOError:\n",
    "\t\tprint(\"Error: could not rename file \" + filename)\n",
    "\n",
    "def delete_file(filename):\n",
    "\ttry:\n",
    "\t\tos.remove(filename)\n",
    "\t\tprint(\"File \" + filename + \" deleted successfully.\")\n",
    "\texcept IOError:\n",
    "\t\tprint(\"Error: could not delete file \" + filename)\n",
    "\n",
    "\n",
    "if __name__ == '__main__':\n",
    "\tfilename = \"example.txt\"\n",
    "\tnew_filename = \"new_example.txt\"\n",
    "\n",
    "\tcreate_file(filename)\n",
    "\tread_file(filename)\n",
    "\tappend_file(filename, \"This is some additional text.\\n\")\n",
    "\tread_file(filename)\n",
    "\trename_file(filename, new_filename)\n",
    "\tread_file(new_filename)\n",
    "\tdelete_file(new_filename)\n"
   ]
  },
  {
   "cell_type": "markdown",
   "metadata": {},
   "source": [
    "**Advantages:**\n",
    "\n",
    "1. Versatility: File handling in Python allows you to perform a wide range of operations, such as creating, reading, writing,      appending, renaming, and deleting files.\n",
    "2. Flexibility: File handling in Python is highly flexible, as it allows you to work with different file types (e.g. text files,    binary files, CSV files, etc.), and to perform different operations on files (e.g. read, write, append, etc.).\n",
    "3. User–friendly: Python provides a user-friendly interface for file handling, making it easy to create, read, and manipulate      files.\n",
    "4. Cross-platform: Python file handling functions work across different platforms (e.g. Windows, Mac, Linux), allowing for          seamless integration and compatibility.\n",
    "\n",
    "**Disadvantages:**\n",
    "\n",
    "1. Error-prone: File handling operations in Python can be prone to errors, especially if the code is not carefully written or if    there are issues with the file system (e.g. file permissions, file locks, etc.).\n",
    "2. Security risks: File handling in Python can also pose security risks, especially if the program accepts user input that can      be used to access or modify sensitive files on the system.\n",
    "3. Complexity: File handling in Python can be complex, especially when working with more advanced file formats or operations.      Careful attention must be paid to the code to ensure that files are handled properly and securely.\n",
    "4. Performance: File handling operations in Python can be slower than other programming languages, especially when dealing with    large files or performing complex operations.\n",
    "\n",
    "Overall, file handling in Python is a powerful and versatile tool that can be used to perform a wide range of operations. However, it is important to carefully consider the advantages and disadvantages of file handling when writing Python programs, to ensure that the code is secure, reliable, and performs well."
   ]
  },
  {
   "cell_type": "code",
   "execution_count": 2,
   "metadata": {},
   "outputs": [],
   "source": [
    "f = open('practice1.txt','w+')"
   ]
  },
  {
   "cell_type": "code",
   "execution_count": 3,
   "metadata": {},
   "outputs": [],
   "source": [
    "f.write('testAgain')\n",
    "f.close()"
   ]
  },
  {
   "cell_type": "markdown",
   "metadata": {},
   "source": [
    "### Getting Directories\n",
    "\n",
    "Python has a built-in [os module](https://docs.python.org/3/library/os.html) that allows us to use operating system dependent functionality.\n",
    "\n",
    "You can get the current directory:"
   ]
  },
  {
   "cell_type": "code",
   "execution_count": 11,
   "metadata": {},
   "outputs": [],
   "source": [
    "import os"
   ]
  },
  {
   "cell_type": "code",
   "execution_count": 12,
   "metadata": {},
   "outputs": [
    {
     "data": {
      "text/plain": [
       "'C:\\\\Users\\\\DivyaJyoti Kumar\\\\OneDrive\\\\Desktop\\\\Python\\\\Complete-Python-3-Bootcamp-master\\\\Complete-Python-3-Bootcamp-master\\\\12-Advanced Python Modules'"
      ]
     },
     "execution_count": 12,
     "metadata": {},
     "output_type": "execute_result"
    }
   ],
   "source": [
    "os.getcwd()"
   ]
  },
  {
   "cell_type": "markdown",
   "metadata": {},
   "source": [
    "### Listing Files in a Directory\n",
    "\n",
    "You can also use the os module to list directories."
   ]
  },
  {
   "cell_type": "code",
   "execution_count": 36,
   "metadata": {},
   "outputs": [
    {
     "data": {
      "text/plain": [
       "['.ipynb_checkpoints',\n",
       " '00-Collections-Module.ipynb',\n",
       " '01-Opening-and-Reading-Files-Folders.ipynb',\n",
       " '02-Datetime-Module.ipynb',\n",
       " '03-Math-and-Random-Module.ipynb',\n",
       " '04-Python Debugger (pdb).ipynb',\n",
       " '05-Overview-of-Regular-Expressions.ipynb',\n",
       " '06-Timing your code - timeit.ipynb',\n",
       " '07-Unzipping-and-Zipping-Files.ipynb',\n",
       " '08-Advanced-Python-Module-Exercise',\n",
       " 'data.json',\n",
       " 'data.json.bak',\n",
       " 'Example_Top_Level',\n",
       " 'Garbage Collection.ipynb',\n",
       " 'geek.txt',\n",
       " 'geek1.txt',\n",
       " 'geek_write.txt',\n",
       " 'Multithreading & MultiProcessing .ipynb',\n",
       " 'OS Modules.ipynb',\n",
       " 'persons.csv',\n",
       " 'persons1.csv',\n",
       " 'pickled.txt',\n",
       " 'Python Data Base Communications(PDBC).ipynb',\n",
       " 'Python Networking(Socket).ipynb',\n",
       " 'sample.json',\n",
       " 'sample.json.bak',\n",
       " 'testXML.xml',\n",
       " 'testXML.xml.bak',\n",
       " 'topnews.csv',\n",
       " 'topnewsfeed.xml',\n",
       " 'topnewsfeed.xml.bak']"
      ]
     },
     "execution_count": 36,
     "metadata": {},
     "output_type": "execute_result"
    }
   ],
   "source": [
    "# In your current directory\n",
    "os.listdir()"
   ]
  },
  {
   "cell_type": "code",
   "execution_count": 13,
   "metadata": {},
   "outputs": [
    {
     "data": {
      "text/plain": [
       "['All Users',\n",
       " 'Default',\n",
       " 'Default User',\n",
       " 'desktop.ini',\n",
       " 'DivyaJyoti',\n",
       " 'DivyaJyoti Kumar',\n",
       " 'DivyaJyoti_000_vcRuntimeMinimum_x64.log',\n",
       " 'DivyaJyoti_000_vcRuntimeMinimum_x86.log',\n",
       " 'DivyaJyoti_001_vcRuntimeAdditional_x64.log',\n",
       " 'DivyaJyoti_001_vcRuntimeAdditional_x86.log',\n",
       " 'Public']"
      ]
     },
     "execution_count": 13,
     "metadata": {},
     "output_type": "execute_result"
    }
   ],
   "source": [
    "# In any directory you pass\n",
    "os.listdir(\"C:\\\\Users\")"
   ]
  },
  {
   "cell_type": "markdown",
   "metadata": {
    "collapsed": true
   },
   "source": [
    "### Moving Files \n",
    "\n",
    "You can use the built-in **shutil** module to to move files to different locations. Keep in mind, there are permission restrictions, for example if you are logged in a User A, you won't be able to make changes to the top level Users folder without the proper permissions, [more info](https://stackoverflow.com/questions/23253439/shutil-movescr-dst-gets-me-ioerror-errno-13-permission-denied-and-3-more-e)"
   ]
  },
  {
   "cell_type": "code",
   "execution_count": 14,
   "metadata": {},
   "outputs": [],
   "source": [
    "import shutil"
   ]
  },
  {
   "cell_type": "code",
   "execution_count": 15,
   "metadata": {},
   "outputs": [
    {
     "data": {
      "text/plain": [
       "'C:\\\\Personal\\\\geek_write.txt'"
      ]
     },
     "execution_count": 15,
     "metadata": {},
     "output_type": "execute_result"
    }
   ],
   "source": [
    "shutil.move('geek_write.txt','C:\\Personal')"
   ]
  },
  {
   "cell_type": "code",
   "execution_count": 16,
   "metadata": {},
   "outputs": [
    {
     "data": {
      "text/plain": [
       "['.ipynb_checkpoints',\n",
       " '00-Collections-Module.ipynb',\n",
       " '01-Opening-and-Reading-Files-Folders.ipynb',\n",
       " '02-Datetime-Module.ipynb',\n",
       " '03-Math-and-Random-Module.ipynb',\n",
       " '04-Python Debugger (pdb).ipynb',\n",
       " '05-Overview-of-Regular-Expressions.ipynb',\n",
       " '06-Timing your code - timeit.ipynb',\n",
       " '07-Unzipping-and-Zipping-Files.ipynb',\n",
       " '08-Advanced-Python-Module-Exercise',\n",
       " 'data.json',\n",
       " 'data.json.bak',\n",
       " 'Example_Top_Level',\n",
       " 'Garbage Collection.ipynb',\n",
       " 'geek.txt',\n",
       " 'geek.txt.bak',\n",
       " 'geek1.txt',\n",
       " 'Multithreading & MultiProcessing .ipynb',\n",
       " 'OS Modules.ipynb',\n",
       " 'persons.csv',\n",
       " 'persons1.csv',\n",
       " 'pickled.txt',\n",
       " 'Python Data Base Communications(PDBC).ipynb',\n",
       " 'Python Networking(Socket).ipynb',\n",
       " 'Regular Expressions Homework.ipynb',\n",
       " 'sample.json',\n",
       " 'sample.json.bak',\n",
       " 'testXML.xml',\n",
       " 'testXML.xml.bak',\n",
       " 'topnewsfeed.xml',\n",
       " 'topnewsfeed.xml.bak']"
      ]
     },
     "execution_count": 16,
     "metadata": {},
     "output_type": "execute_result"
    }
   ],
   "source": [
    "os.listdir()"
   ]
  },
  {
   "cell_type": "code",
   "execution_count": 17,
   "metadata": {},
   "outputs": [
    {
     "data": {
      "text/plain": [
       "'C:\\\\Users\\\\DivyaJyoti Kumar\\\\OneDrive\\\\Desktop\\\\Python\\\\Complete-Python-3-Bootcamp-master\\\\Complete-Python-3-Bootcamp-master\\\\12-Advanced Python Modules\\\\geek_write.txt'"
      ]
     },
     "execution_count": 17,
     "metadata": {},
     "output_type": "execute_result"
    }
   ],
   "source": [
    "shutil.move('C:\\Personal\\geek_write.txt',os.getcwd())"
   ]
  },
  {
   "cell_type": "code",
   "execution_count": 18,
   "metadata": {},
   "outputs": [
    {
     "data": {
      "text/plain": [
       "['.ipynb_checkpoints',\n",
       " '00-Collections-Module.ipynb',\n",
       " '01-Opening-and-Reading-Files-Folders.ipynb',\n",
       " '02-Datetime-Module.ipynb',\n",
       " '03-Math-and-Random-Module.ipynb',\n",
       " '04-Python Debugger (pdb).ipynb',\n",
       " '05-Overview-of-Regular-Expressions.ipynb',\n",
       " '06-Timing your code - timeit.ipynb',\n",
       " '07-Unzipping-and-Zipping-Files.ipynb',\n",
       " '08-Advanced-Python-Module-Exercise',\n",
       " 'data.json',\n",
       " 'data.json.bak',\n",
       " 'Example_Top_Level',\n",
       " 'Garbage Collection.ipynb',\n",
       " 'geek.txt',\n",
       " 'geek.txt.bak',\n",
       " 'geek1.txt',\n",
       " 'geek_write.txt',\n",
       " 'Multithreading & MultiProcessing .ipynb',\n",
       " 'OS Modules.ipynb',\n",
       " 'persons.csv',\n",
       " 'persons1.csv',\n",
       " 'pickled.txt',\n",
       " 'Python Data Base Communications(PDBC).ipynb',\n",
       " 'Python Networking(Socket).ipynb',\n",
       " 'Regular Expressions Homework.ipynb',\n",
       " 'sample.json',\n",
       " 'sample.json.bak',\n",
       " 'testXML.xml',\n",
       " 'testXML.xml.bak',\n",
       " 'topnewsfeed.xml',\n",
       " 'topnewsfeed.xml.bak']"
      ]
     },
     "execution_count": 18,
     "metadata": {},
     "output_type": "execute_result"
    }
   ],
   "source": [
    "os.listdir()"
   ]
  },
  {
   "cell_type": "markdown",
   "metadata": {},
   "source": [
    "### Deleting Files\n",
    "____\n",
    "**NOTE: The os module provides 3 methods for deleting files:**\n",
    "* os.unlink(path) which deletes a file at the path your provide\n",
    "* os.rmdir(path) which deletes a folder (folder must be empty) at the path your provide\n",
    "* shutil.rmtree(path) this is the most dangerous, as it will remove all files and folders contained in the path.\n",
    "**All of these methods can not be reversed! Which means if you make a mistake you won't be able to recover the file. Instead we will use the send2trash module. A safer alternative that sends deleted files to the trash bin instead of permanent removal.**\n",
    "___\n",
    "\n",
    "Install the send2trash module with:\n",
    "\n",
    "    pip install send2trash\n",
    "    \n",
    "at your command line."
   ]
  },
  {
   "cell_type": "code",
   "execution_count": 19,
   "metadata": {},
   "outputs": [],
   "source": [
    "import send2trash"
   ]
  },
  {
   "cell_type": "code",
   "execution_count": 20,
   "metadata": {},
   "outputs": [
    {
     "data": {
      "text/plain": [
       "['.ipynb_checkpoints',\n",
       " '00-Collections-Module.ipynb',\n",
       " '01-Opening-and-Reading-Files-Folders.ipynb',\n",
       " '02-Datetime-Module.ipynb',\n",
       " '03-Math-and-Random-Module.ipynb',\n",
       " '04-Python Debugger (pdb).ipynb',\n",
       " '05-Overview-of-Regular-Expressions.ipynb',\n",
       " '06-Timing your code - timeit.ipynb',\n",
       " '07-Unzipping-and-Zipping-Files.ipynb',\n",
       " '08-Advanced-Python-Module-Exercise',\n",
       " 'data.json',\n",
       " 'data.json.bak',\n",
       " 'Example_Top_Level',\n",
       " 'Garbage Collection.ipynb',\n",
       " 'geek.txt',\n",
       " 'geek.txt.bak',\n",
       " 'geek1.txt',\n",
       " 'geek_write.txt',\n",
       " 'Multithreading & MultiProcessing .ipynb',\n",
       " 'OS Modules.ipynb',\n",
       " 'persons.csv',\n",
       " 'persons1.csv',\n",
       " 'pickled.txt',\n",
       " 'Python Data Base Communications(PDBC).ipynb',\n",
       " 'Python Networking(Socket).ipynb',\n",
       " 'Regular Expressions Homework.ipynb',\n",
       " 'sample.json',\n",
       " 'sample.json.bak',\n",
       " 'testXML.xml',\n",
       " 'testXML.xml.bak',\n",
       " 'topnewsfeed.xml',\n",
       " 'topnewsfeed.xml.bak']"
      ]
     },
     "execution_count": 20,
     "metadata": {},
     "output_type": "execute_result"
    }
   ],
   "source": [
    "os.listdir()"
   ]
  },
  {
   "cell_type": "code",
   "execution_count": 21,
   "metadata": {},
   "outputs": [],
   "source": [
    "send2trash.send2trash('persons1.csv')"
   ]
  },
  {
   "cell_type": "code",
   "execution_count": 22,
   "metadata": {},
   "outputs": [
    {
     "data": {
      "text/plain": [
       "['.ipynb_checkpoints',\n",
       " '00-Collections-Module.ipynb',\n",
       " '01-Opening-and-Reading-Files-Folders.ipynb',\n",
       " '02-Datetime-Module.ipynb',\n",
       " '03-Math-and-Random-Module.ipynb',\n",
       " '04-Python Debugger (pdb).ipynb',\n",
       " '05-Overview-of-Regular-Expressions.ipynb',\n",
       " '06-Timing your code - timeit.ipynb',\n",
       " '07-Unzipping-and-Zipping-Files.ipynb',\n",
       " '08-Advanced-Python-Module-Exercise',\n",
       " 'data.json',\n",
       " 'data.json.bak',\n",
       " 'Example_Top_Level',\n",
       " 'Garbage Collection.ipynb',\n",
       " 'geek.txt',\n",
       " 'geek.txt.bak',\n",
       " 'geek1.txt',\n",
       " 'geek_write.txt',\n",
       " 'Multithreading & MultiProcessing .ipynb',\n",
       " 'OS Modules.ipynb',\n",
       " 'persons.csv',\n",
       " 'pickled.txt',\n",
       " 'Python Data Base Communications(PDBC).ipynb',\n",
       " 'Python Networking(Socket).ipynb',\n",
       " 'Regular Expressions Homework.ipynb',\n",
       " 'sample.json',\n",
       " 'sample.json.bak',\n",
       " 'testXML.xml',\n",
       " 'testXML.xml.bak',\n",
       " 'topnewsfeed.xml',\n",
       " 'topnewsfeed.xml.bak']"
      ]
     },
     "execution_count": 22,
     "metadata": {},
     "output_type": "execute_result"
    }
   ],
   "source": [
    "os.listdir()"
   ]
  },
  {
   "cell_type": "markdown",
   "metadata": {},
   "source": [
    "### Walking through a directory\n",
    "\n",
    "Often you will just need to \"walk\" through a directory, that is visit every file or folder and check to see if a file is in the directory, and then perhaps do something with that file. Usually recursively walking through every file and folder in a directory would be quite tricky to program, but luckily the os module has a direct method call for this called os.walk(). Let's explore how it works."
   ]
  },
  {
   "cell_type": "code",
   "execution_count": 23,
   "metadata": {},
   "outputs": [
    {
     "data": {
      "text/plain": [
       "'C:\\\\Users\\\\DivyaJyoti Kumar\\\\OneDrive\\\\Desktop\\\\Python\\\\Complete-Python-3-Bootcamp-master\\\\Complete-Python-3-Bootcamp-master\\\\12-Advanced Python Modules'"
      ]
     },
     "execution_count": 23,
     "metadata": {},
     "output_type": "execute_result"
    }
   ],
   "source": [
    "os.getcwd()"
   ]
  },
  {
   "cell_type": "code",
   "execution_count": 24,
   "metadata": {},
   "outputs": [
    {
     "data": {
      "text/plain": [
       "['.ipynb_checkpoints',\n",
       " '00-Collections-Module.ipynb',\n",
       " '01-Opening-and-Reading-Files-Folders.ipynb',\n",
       " '02-Datetime-Module.ipynb',\n",
       " '03-Math-and-Random-Module.ipynb',\n",
       " '04-Python Debugger (pdb).ipynb',\n",
       " '05-Overview-of-Regular-Expressions.ipynb',\n",
       " '06-Timing your code - timeit.ipynb',\n",
       " '07-Unzipping-and-Zipping-Files.ipynb',\n",
       " '08-Advanced-Python-Module-Exercise',\n",
       " 'data.json',\n",
       " 'data.json.bak',\n",
       " 'Example_Top_Level',\n",
       " 'Garbage Collection.ipynb',\n",
       " 'geek.txt',\n",
       " 'geek.txt.bak',\n",
       " 'geek1.txt',\n",
       " 'geek_write.txt',\n",
       " 'Multithreading & MultiProcessing .ipynb',\n",
       " 'OS Modules.ipynb',\n",
       " 'persons.csv',\n",
       " 'persons1.csv',\n",
       " 'pickled.txt',\n",
       " 'Python Data Base Communications(PDBC).ipynb',\n",
       " 'Python Networking(Socket).ipynb',\n",
       " 'Regular Expressions Homework.ipynb',\n",
       " 'sample.json',\n",
       " 'sample.json.bak',\n",
       " 'testXML.xml',\n",
       " 'testXML.xml.bak',\n",
       " 'topnewsfeed.xml',\n",
       " 'topnewsfeed.xml.bak']"
      ]
     },
     "execution_count": 24,
     "metadata": {},
     "output_type": "execute_result"
    }
   ],
   "source": [
    "os.listdir()"
   ]
  },
  {
   "cell_type": "code",
   "execution_count": 25,
   "metadata": {},
   "outputs": [
    {
     "name": "stdout",
     "output_type": "stream",
     "text": [
      "Currently looking at folder: 08-Advanced-Python-Module-Exercise\n",
      "\n",
      "\n",
      "THE SUBFOLDERS ARE: \n",
      "\t Subfolder: .ipynb_checkpoints\n",
      "\t Subfolder: extracted_content\n",
      "\n",
      "\n",
      "THE FILES ARE: \n",
      "\t File: 07-Advanced-Modules-Exercise-Puzzle.ipynb\n",
      "\t File: 08-Advanced-Modules-Exercise-Solutions.ipynb\n",
      "\t File: unzip_me_for_instructions.zip\n",
      "\n",
      "\n",
      "Currently looking at folder: 08-Advanced-Python-Module-Exercise\\.ipynb_checkpoints\n",
      "\n",
      "\n",
      "THE SUBFOLDERS ARE: \n",
      "\n",
      "\n",
      "THE FILES ARE: \n",
      "\t File: 07-Advanced-Modules-Exercise-Puzzle-checkpoint.ipynb\n",
      "\t File: 08-Advanced-Modules-Exercise-Solutions-checkpoint.ipynb\n",
      "\n",
      "\n",
      "Currently looking at folder: 08-Advanced-Python-Module-Exercise\\extracted_content\n",
      "\n",
      "\n",
      "THE SUBFOLDERS ARE: \n",
      "\t Subfolder: Five\n",
      "\t Subfolder: Four\n",
      "\t Subfolder: One\n",
      "\t Subfolder: Three\n",
      "\t Subfolder: Two\n",
      "\n",
      "\n",
      "THE FILES ARE: \n",
      "\t File: Instructions.txt\n",
      "\n",
      "\n",
      "Currently looking at folder: 08-Advanced-Python-Module-Exercise\\extracted_content\\Five\n",
      "\n",
      "\n",
      "THE SUBFOLDERS ARE: \n",
      "\n",
      "\n",
      "THE FILES ARE: \n",
      "\t File: AEITMYIRQLP.txt\n",
      "\t File: APJKSRITGGX.txt\n",
      "\t File: AQKATDFGXTS.txt\n",
      "\t File: ARLKFCWIAJE.txt\n",
      "\t File: AXJGVPVEFAS.txt\n",
      "\t File: BNUQEHCFRTG.txt\n",
      "\t File: BSKJDRNEZQM.txt\n",
      "\t File: BTYWAHLHKBM.txt\n",
      "\t File: BUGKBZWRRVI.txt\n",
      "\t File: BVBURZZCAPR.txt\n",
      "\t File: CAHBEVSVDDN.txt\n",
      "\t File: COMGMZBJAYE.txt\n",
      "\t File: CRFSDGYFSHA.txt\n",
      "\t File: CSCLFZCDYYC.txt\n",
      "\t File: CXBVCTRBBIE.txt\n",
      "\t File: DDLASODUVPX.txt\n",
      "\t File: DHZBAAYEADM.txt\n",
      "\t File: DQPZQLBCJYP.txt\n",
      "\t File: DYOPIIVMZOO.txt\n",
      "\t File: DZUWWXYIAEL.txt\n",
      "\t File: EAAOEPSAWMQ.txt\n",
      "\t File: EIPWXMQZJKU.txt\n",
      "\t File: ESIZWBHMGDP.txt\n",
      "\t File: ETCUEXWNBCF.txt\n",
      "\t File: EYTCGIOYWIW.txt\n",
      "\n",
      "\n",
      "Currently looking at folder: 08-Advanced-Python-Module-Exercise\\extracted_content\\Four\n",
      "\n",
      "\n",
      "THE SUBFOLDERS ARE: \n",
      "\n",
      "\n",
      "THE FILES ARE: \n",
      "\t File: ECIOBYCDVFI.txt\n",
      "\t File: EMTGPSXQEJX.txt\n",
      "\t File: EPRNUHRSESC.txt\n",
      "\t File: ESDIZXHYCVY.txt\n",
      "\t File: EXVQSVBQQQH.txt\n",
      "\t File: QCTCKDIBBVG.txt\n",
      "\t File: QCWCFLKNZMN.txt\n",
      "\t File: QDDETWBHJYC.txt\n",
      "\t File: QTDYYIFPHAU.txt\n",
      "\t File: QVNJULGXNUM.txt\n",
      "\t File: REAXWSOIQDY.txt\n",
      "\t File: ROICPTWKXDX.txt\n",
      "\t File: RSXOTNGKBML.txt\n",
      "\t File: RXDARIDGKBF.txt\n",
      "\t File: RYNXFYXMKHG.txt\n",
      "\t File: TAKNAVDMZKV.txt\n",
      "\t File: THPNEGKTJWI.txt\n",
      "\t File: TJFMLJODVAD.txt\n",
      "\t File: TKCZSFQNJTX.txt\n",
      "\t File: TWUOYFCCYBQ.txt\n",
      "\t File: WFSKPTXPFCH.txt\n",
      "\t File: WHTOHQUWXIN.txt\n",
      "\t File: WNJISWPEBRS.txt\n",
      "\t File: WXDJDOGZEHN.txt\n",
      "\t File: WYDLGSGGXKV.txt\n",
      "\n",
      "\n",
      "Currently looking at folder: 08-Advanced-Python-Module-Exercise\\extracted_content\\One\n",
      "\n",
      "\n",
      "THE SUBFOLDERS ARE: \n",
      "\n",
      "\n",
      "THE FILES ARE: \n",
      "\t File: HDOHZHFSTTK.txt\n",
      "\t File: HFUTPPAXDIS.txt\n",
      "\t File: HMNZTLIFGPD.txt\n",
      "\t File: HRQFTHKVJTL.txt\n",
      "\t File: HVUTZEVMSBW.txt\n",
      "\t File: JDLRVFCXYLU.txt\n",
      "\t File: JEHBLZPUPSP.txt\n",
      "\t File: JLTXKIGCWDL.txt\n",
      "\t File: JQUOBKFUACN.txt\n",
      "\t File: JTHSNBNPQSE.txt\n",
      "\t File: KCXGNQCZBLO.txt\n",
      "\t File: KFIUZFERLET.txt\n",
      "\t File: KMMLGJOWLGI.txt\n",
      "\t File: KNBSKDREHQU.txt\n",
      "\t File: KTXDHIOKAUI.txt\n",
      "\t File: LDGOCUQJNNS.txt\n",
      "\t File: LFEATJAAYDC.txt\n",
      "\t File: LHODFIKVTQA.txt\n",
      "\t File: LIFDHOFKWOI.txt\n",
      "\t File: LPNDVDXPZIG.txt\n",
      "\t File: PDJMSMNKIRM.txt\n",
      "\t File: PHWAVPEKAER.txt\n",
      "\t File: PLYCGPVEAWO.txt\n",
      "\t File: PQNVCVJINAR.txt\n",
      "\t File: PTOBBCJYURJ.txt\n",
      "\n",
      "\n",
      "Currently looking at folder: 08-Advanced-Python-Module-Exercise\\extracted_content\\Three\n",
      "\n",
      "\n",
      "THE SUBFOLDERS ARE: \n",
      "\n",
      "\n",
      "THE FILES ARE: \n",
      "\t File: VAQIJTDOFUJ.txt\n",
      "\t File: VCFJCGJFBIH.txt\n",
      "\t File: VSXFSTABZDY.txt\n",
      "\t File: VVHFVZUNLOO.txt\n",
      "\t File: VVKGWLRMHLU.txt\n",
      "\t File: XAJMCPEWFNI.txt\n",
      "\t File: XFHJOTNPEJG.txt\n",
      "\t File: XHZPVUQTXIO.txt\n",
      "\t File: XJCWENFFGHB.txt\n",
      "\t File: XVMPVSVYKFR.txt\n",
      "\t File: YCESZHJDBXH.txt\n",
      "\t File: YDQFMWXOUMW.txt\n",
      "\t File: YQBIUHSUEVW.txt\n",
      "\t File: YQRNCMNFFHW.txt\n",
      "\t File: YYIZGBTQHZP.txt\n",
      "\t File: ZEZKKRBIZEB.txt\n",
      "\t File: ZKQJXAYKPVD.txt\n",
      "\t File: ZOWVXWPOGWP.txt\n",
      "\t File: ZXEZRQXZNPG.txt\n",
      "\t File: ZXIBJMPROKW.txt\n",
      "\n",
      "\n",
      "Currently looking at folder: 08-Advanced-Python-Module-Exercise\\extracted_content\\Two\n",
      "\n",
      "\n",
      "THE SUBFOLDERS ARE: \n",
      "\n",
      "\n",
      "THE FILES ARE: \n",
      "\t File: GKQBQRCTNNK.txt\n",
      "\t File: GMMQQUBMJNR.txt\n",
      "\t File: GQTJJORZBXY.txt\n",
      "\t File: GTOTCIWMDBY.txt\n",
      "\t File: GXYSEPAFRTP.txt\n",
      "\t File: HARDNJGDRBC.txt\n",
      "\t File: HEORIXOTANT.txt\n",
      "\t File: HMUTDOVNYTV.txt\n",
      "\t File: HMZXPBOPRAE.txt\n",
      "\t File: HTOHSTYXTCO.txt\n",
      "\t File: LCJZYDHBFRM.txt\n",
      "\t File: LSQSTGPIGIY.txt\n",
      "\t File: LULTNYAQEJG.txt\n",
      "\t File: LVMBINRBJXL.txt\n",
      "\t File: LYZEQCVYNEZ.txt\n",
      "\t File: OHZOUOSFJQC.txt\n",
      "\t File: OIHMLGMWTHL.txt\n",
      "\t File: OKWFOOYTXFU.txt\n",
      "\t File: OMWIMVRCMYM.txt\n",
      "\t File: OYMAGXAGWHJ.txt\n",
      "\t File: SIKFPPLCJDN.txt\n",
      "\t File: SJMJLDGPBSJ.txt\n",
      "\t File: SOFUJYXTIMK.txt\n",
      "\t File: SPDZYGDHEWO.txt\n",
      "\t File: SWOFXREEHWA.txt\n",
      "\n",
      "\n"
     ]
    }
   ],
   "source": [
    "for folder , sub_folders , files in os.walk(\"08-Advanced-Python-Module-Exercise\"):\n",
    "    \n",
    "    print(\"Currently looking at folder: \"+ folder)\n",
    "    print('\\n')\n",
    "    print(\"THE SUBFOLDERS ARE: \")\n",
    "    for sub_fold in sub_folders:\n",
    "        print(\"\\t Subfolder: \"+sub_fold )\n",
    "    \n",
    "    print('\\n')\n",
    "    \n",
    "    print(\"THE FILES ARE: \")\n",
    "    for f in files:\n",
    "        print(\"\\t File: \"+f)\n",
    "    print('\\n')\n",
    "    \n",
    "    # Now look at subfolders"
   ]
  },
  {
   "cell_type": "markdown",
   "metadata": {
    "collapsed": true
   },
   "source": [
    "___\n",
    "Excellent, you should now be aware of how to work with a computer's files and folders in whichever directory they are in. Remember that the os module works for any oeprating system that supports Python, which means these commands will work across Linux,MacOs, or Windows without need for adjustment."
   ]
  },
  {
   "cell_type": "markdown",
   "metadata": {},
   "source": [
    "# CSV Module \n",
    "    csv stands from comma separated values.This file format is commonaly used data format while exporting/importing data to/from\n",
    "    spreadsheets and data tables in database\n",
    "    \n",
    "    The CSV API interface consits of following writer and reader classes---\n",
    "**writer() Class**\n",
    "\n",
    "    This function in csv module returns a writer object that converts data into delimited string and stores in a file object\n",
    "        writer class has following methods-\n",
    "        writerow()--> This method writes items in an iterable (list,tuple) sperating them by comma character.\n",
    "        writerrows()--> This method takes a list of iterables as parameters and write each items as comma separated line of items in the file"
   ]
  },
  {
   "cell_type": "code",
   "execution_count": 26,
   "metadata": {},
   "outputs": [],
   "source": [
    "import csv\n",
    "persons = [('Lata',22,45),('Anil',21,56),('Jhon',20,60)]\n",
    "csvfile = open('persons.csv','w',newline='')\n",
    "obj=csv.writer(csvfile)\n",
    "for person in persons:\n",
    "    obj.writerow(person)\n",
    "csvfile.close()\n",
    "\n",
    "\n",
    "persons = [('Lata',22,45),('Anil',21,56),('Jhon',20,60)]\n",
    "csvfile = open('persons1.csv','w',newline='')\n",
    "obj=csv.writer(csvfile)\n",
    "obj.writerows(persons)\n",
    "csvfile.close()"
   ]
  },
  {
   "cell_type": "markdown",
   "metadata": {},
   "source": [
    "\n",
    "**reader() Class**\n",
    "\n",
    "This function return a reader object which returns an iterator of lines in the csv file . using the regular for loop all lines in the file are displayed in following exapmle"
   ]
  },
  {
   "cell_type": "code",
   "execution_count": 27,
   "metadata": {},
   "outputs": [
    {
     "name": "stdout",
     "output_type": "stream",
     "text": [
      "['Lata', '22', '45']\n",
      "['Anil', '21', '56']\n",
      "['Jhon', '20', '60']\n"
     ]
    }
   ],
   "source": [
    "csvfile=open('persons.csv','r',newline='')\n",
    "obj = csv.reader(csvfile)\n",
    "for row in obj:\n",
    "    print(row)"
   ]
  },
  {
   "cell_type": "markdown",
   "metadata": {},
   "source": [
    "# Pickel Module (Object Serialization)\n",
    "\n",
    "Object serialization is the process of converting state of an object into byte stream. This byte stream can further be stored in any file like object such as disk file or memory stream. it can also be transmitted via sockets etc.\n",
    "\n",
    "deserialization is the process of reconstructing the object from the byte stream.\n",
    "\n",
    "In python serialization and deserialization is termed as pickling and unpickling respectively."
   ]
  },
  {
   "cell_type": "code",
   "execution_count": 29,
   "metadata": {},
   "outputs": [
    {
     "data": {
      "text/plain": [
       "5"
      ]
     },
     "execution_count": 29,
     "metadata": {},
     "output_type": "execute_result"
    }
   ],
   "source": [
    "import pickle\n",
    "pickle.HIGHEST_PROTOCOL\n",
    "pickle.DEFAULT_PROTOCOL"
   ]
  },
  {
   "cell_type": "code",
   "execution_count": 30,
   "metadata": {},
   "outputs": [],
   "source": [
    "#serialization\n",
    "f= open('pickled.txt','wb')\n",
    "dct={\"name\":\"rajeev\",\"age\":23,\"Gender\":\"Male\",\"Marks\":75}\n",
    "pickle.dump(dct,f)\n",
    "f.close()"
   ]
  },
  {
   "cell_type": "code",
   "execution_count": 31,
   "metadata": {},
   "outputs": [
    {
     "name": "stdout",
     "output_type": "stream",
     "text": [
      "{'name': 'rajeev', 'age': 23, 'Gender': 'Male', 'Marks': 75}\n"
     ]
    }
   ],
   "source": [
    "#deserialization\n",
    "f=open('pickled.txt','rb')\n",
    "d=pickle.load(f)\n",
    "print(d)\n",
    "f.close()"
   ]
  },
  {
   "cell_type": "markdown",
   "metadata": {},
   "source": [
    "# XML parsing in Python\n",
    "\n",
    "Python XML parser provides one of the easiest ways to read and extract useful information from the XML file. In this short tutorial we are going to see how we can parse XML file, modify and create XML documents using python ElementTree XML API.\n",
    "\n",
    "Python ElementTree API is one of the easiest way to extract, parse and transform XML data.\n",
    "\n",
    "So let’s get started using python XML parser using ElementTree:\n",
    "\n",
    "**Example1**\n",
    "\n",
    "Creating XML file\n",
    "\n",
    "First we are going to create a new XML file with an element and a sub-element."
   ]
  },
  {
   "cell_type": "code",
   "execution_count": 32,
   "metadata": {},
   "outputs": [],
   "source": [
    "import xml.etree.ElementTree as xml\n",
    "\n",
    "def createXML(filename):\n",
    "   # Start with the root element\n",
    "   root = xml.Element(\"users\")\n",
    "   children1 = xml.Element(\"user\")\n",
    "   root.append(children1)\n",
    "\n",
    "   tree = xml.ElementTree(root)\n",
    "   with open(filename, \"wb\") as fh:\n",
    "      tree.write(fh)\n",
    "\n",
    "if __name__ == \"__main__\":\n",
    "   createXML(\"testXML.xml\")"
   ]
  },
  {
   "cell_type": "markdown",
   "metadata": {},
   "source": [
    "Once we run above program, a new file is created named “textXML.xml” in our current default working directory:\n",
    "\n",
    "![image.png](attachment:image.png)\n",
    "\n",
    "Which contains contents something like:\n",
    "\n",
    "    <users><user /></users> \n",
    "\n",
    "Please note while writing the file, we have used the ‘wb’ mode .i.e. write the file in binary mode.\n",
    "\n",
    "**Adding values to XML elements**\n",
    "\n",
    "Let’s give some values to the XML elements in our above program:"
   ]
  },
  {
   "cell_type": "code",
   "execution_count": 33,
   "metadata": {},
   "outputs": [],
   "source": [
    "#Import required library\n",
    "import xml.etree.ElementTree as xml\n",
    "\n",
    "def createXML(filename):\n",
    "   # Start with the root element\n",
    "   root = xml.Element(\"users\")\n",
    "   children1 = xml.Element(\"user\")\n",
    "   root.append(children1)\n",
    "\n",
    "   userId1 = xml.SubElement(children1, \"Id\")\n",
    "   userId1.text = \"hello\"\n",
    "\n",
    "   userName1 = xml.SubElement(children1, \"Name\")\n",
    "   userName1.text = \"Rajesh\"\n",
    "\n",
    "   tree = xml.ElementTree(root)\n",
    "   with open(filename, \"wb\") as fh:\n",
    "       tree.write(fh)\n",
    "\n",
    "if __name__ == \"__main__\":\n",
    "   createXML(\"testXML.xml\")"
   ]
  },
  {
   "cell_type": "markdown",
   "metadata": {},
   "source": [
    "After running the above program, we’ll see that new elements are added with values, something like:\n",
    "\n",
    "    <users>\n",
    "       <user>\n",
    "          <Id>hello</Id>\n",
    "          <Name>Rajesh</Name>\n",
    "       </user>\n",
    "    </users>\n",
    "Above output looks ok.\n",
    "\n",
    "Now let’s start editing files:\n",
    "\n",
    "**Editing XML data**\n",
    "\n",
    "Let’s add some bit of data into from a file in our existing program.\n",
    "\n",
    "    <users>\n",
    "       <user>\n",
    "          <id>1a</id>\n",
    "          <name>Rajesh</name>\n",
    "          <salary>NA</salary>\n",
    "       </user>\n",
    "       <user>\n",
    "          <id>2b</id>\n",
    "          <name>TutorialsPoint</name>\n",
    "          <salary>NA</salary>\n",
    "       </user>\n",
    "       <user>\n",
    "          <id>3c</id>\n",
    "          <name>Others</name>\n",
    "          <salary>NA</salary>\n",
    "       </user>\n",
    "    </users>\n",
    "    \n",
    "  Above is our current xml file, let’s try to update the salary of each users:"
   ]
  },
  {
   "cell_type": "code",
   "execution_count": 34,
   "metadata": {},
   "outputs": [],
   "source": [
    "#Import required library\n",
    "import xml.etree.ElementTree as ET\n",
    "\n",
    "def updateET(filename):\n",
    "   # Start with the root element\n",
    "   tree = ET.ElementTree(file=filename)\n",
    "   root = tree.getroot()\n",
    "\n",
    "   for salary in root.iter('salary'):\n",
    "      salary.text = '600000'\n",
    "\n",
    "   tree = ET.ElementTree(root)\n",
    "   with open(\"topnewsfeed.xml\", \"wb\") as fh:\n",
    "      tree.write(fh)\n",
    "\n",
    "if __name__ == \"__main__\":\n",
    "   updateET(\"topnewsfeed.xml\")"
   ]
  },
  {
   "cell_type": "markdown",
   "metadata": {},
   "source": [
    "**Example: Python XML Parser**\n",
    "\n",
    "Now let’s write another program which will parse XML data present in the file and print the data.\n"
   ]
  },
  {
   "cell_type": "code",
   "execution_count": 35,
   "metadata": {},
   "outputs": [
    {
     "name": "stdout",
     "output_type": "stream",
     "text": [
      "<Element 'users' at 0x0000015B63B12270>\n",
      "tag=users, attrib={}\n",
      "-------------------------\n",
      "Iterating using getchildren()\n",
      "-------------------------\n",
      "Rajesh\n",
      "id=1a\n",
      "name=Rajesh\n",
      "salary=600000\n",
      "id=2b\n",
      "name=TutorialsPoint\n",
      "salary=600000\n",
      "id=3c\n",
      "name=Others\n",
      "salary=600000\n"
     ]
    }
   ],
   "source": [
    "#Import required library\n",
    "import xml.etree.cElementTree as ET\n",
    "\n",
    "def parseXML(file_name):\n",
    "   # Parse XML with ElementTree\n",
    "   tree = ET.ElementTree(file=file_name)\n",
    "   print(tree.getroot())\n",
    "   root = tree.getroot()\n",
    "   print(\"tag=%s, attrib=%s\" % (root.tag, root.attrib))\n",
    "\n",
    "   # get the information via the children!\n",
    "   print(\"-\" * 25)\n",
    "   print(\"Iterating using getchildren()\")\n",
    "   print(\"-\" * 25)\n",
    "   users = list(root)\n",
    "   print(list(users[0])[1].text)\n",
    "   for user in users:\n",
    "      user_children = list(user)\n",
    "      for user_child in user_children:\n",
    "         print(\"%s=%s\" % (user_child.tag, user_child.text))\n",
    "\n",
    "if __name__ == \"__main__\":\n",
    "   parseXML(\"topnewsfeed.xml\")"
   ]
  },
  {
   "cell_type": "markdown",
   "metadata": {},
   "source": [
    "# •\tJSON parsing\n",
    "\n",
    "JSON is a lightweight data format for data interchange which can be easily read and written by humans, easily parsed and generated by machines. It is a complete language-independent text format. To work with JSON data, Python has a built-in package called json.\n",
    "\n",
    "Example:\n",
    "\n",
    "  s = '{\"id\":01, \"name\": \"Emily\", \"language\": [\"C++\", \"Python\"]}'\n",
    "  \n",
    "The syntax of JSON is considered as a subset of the syntax of JavaScript including the following:\n",
    "\n",
    "1. Name/Value pairs: Represents Data, name is followed by ‘:'(colon) and the Name/Value pairs separated by, (comma).\n",
    "2. Curly braces: Holds objects.\n",
    "3. Square brackets: Hold arrays with values separated by, (comma).\n",
    "    \n",
    "Keys/Name must be strings with double quotes and values must be data types amongst the following: \n",
    "    *String ,\n",
    "    Number ,\n",
    "    Object (JSON object) ,\n",
    "    array ,\n",
    "    Boolean ,\n",
    "    Null*\n",
    "\n",
    "Example:\n",
    "\n",
    "     {\n",
    "       \"employee\": [\n",
    "\n",
    "          {\n",
    "             \"id\": \"01\",\n",
    "             \"name\": \"Amit\",\n",
    "             \"department\": \"Sales\"\n",
    "          },\n",
    "\n",
    "          {\n",
    "             \"id\": \"04\",\n",
    "             \"name\": \"sunil\",\n",
    "             \"department\": \"HR\"\n",
    "          }\n",
    "       ]\n",
    "    }\n",
    "**Parse JSON (Convert from JSON to Python)**\n",
    "\n",
    "json.loads() method can parse a json string and the result will be a Python dictionary.\n",
    "Syntax:\n",
    "\n",
    "\n",
    "json.loads(json_string)"
   ]
  },
  {
   "cell_type": "code",
   "execution_count": 36,
   "metadata": {},
   "outputs": [
    {
     "name": "stdout",
     "output_type": "stream",
     "text": [
      "{'id': '09', 'name': 'Nitin', 'department': 'Finance'}\n",
      "Finance\n"
     ]
    }
   ],
   "source": [
    "# Python program to convert JSON to Python\n",
    "\n",
    "\n",
    "import json\n",
    "\n",
    "# JSON string\n",
    "employee ='{\"id\":\"09\", \"name\": \"Nitin\", \"department\":\"Finance\"}'\n",
    "\n",
    "# Convert string to Python dict\n",
    "employee_dict = json.loads(employee)\n",
    "print(employee_dict)\n",
    "\n",
    "print(employee_dict['department'])\n"
   ]
  },
  {
   "attachments": {
    "image.png": {
     "image/png": "[encoded data removed]"
    }
   },
   "cell_type": "markdown",
   "metadata": {},
   "source": [
    "**Python read JSON file**\n",
    "\n",
    "json.load() method can read a file which contains a JSON object. Consider a file named employee.json which contains a JSON object.\n",
    "Syntax:\n",
    "\n",
    " <Code> json.load(file_object) </Code>\n",
    " \n",
    "Example: Let’s suppose the JSON looks like this.\n",
    "\n",
    "![image.png](attachment:image.png)\n",
    "\n",
    "We want to read the content of this file. Below is the implementation."
   ]
  },
  {
   "cell_type": "code",
   "execution_count": 37,
   "metadata": {},
   "outputs": [
    {
     "name": "stdout",
     "output_type": "stream",
     "text": [
      "{'name': 'Shyam', 'email': 'shyamjaiswal@gmail.com'}\n",
      "{'name': 'Bob', 'email': 'bob32@gmail.com'}\n",
      "{'name': 'Jai', 'email': 'jai87@gmail.com'}\n"
     ]
    }
   ],
   "source": [
    "# Python program to read\n",
    "# json file\n",
    "\n",
    "\n",
    "import json\n",
    "\n",
    "# Opening JSON file\n",
    "f = open('data.json',)\n",
    "\n",
    "# returns JSON object as\n",
    "# a dictionary\n",
    "data = json.load(f)\n",
    "\n",
    "# Iterating through the json\n",
    "# list\n",
    "for i in data['employees']:\n",
    "\tprint(i)\n",
    "\n",
    "# Closing file\n",
    "f.close()\n"
   ]
  },
  {
   "cell_type": "markdown",
   "metadata": {},
   "source": [
    "Here, we have used the open() function to read the JSON file. Then, the file is parsed using json.load() method which gives us a dictionary named data.\n",
    "\n",
    "**Convert from Python to JSON**\n",
    "\n",
    "json.dumps() method can convert a Python object into a JSON string.\n",
    "\n",
    "Syntax:\n",
    "\n",
    "  <Code>json.dumps(dict, indent)</Code>\n",
    "\n",
    "It takes two parameters:\n",
    "\n",
    "dictionary – name of dictionary which should be converted to JSON object.\n",
    "indent – defines the number of units for indentation\n",
    "Example:"
   ]
  },
  {
   "cell_type": "code",
   "execution_count": 40,
   "metadata": {},
   "outputs": [
    {
     "name": "stdout",
     "output_type": "stream",
     "text": [
      "{\n",
      "   \"id\": \"04\",\n",
      "   \"name\": \"sunil\",\n",
      "   \"department\": \"HR\"\n",
      "}\n"
     ]
    }
   ],
   "source": [
    "# Python program to convert\n",
    "# Python to JSON\n",
    "\n",
    "\n",
    "import json\n",
    "\n",
    "# Data to be written\n",
    "dictionary ={\n",
    "\"id\": \"04\",\n",
    "\"name\": \"sunil\",\n",
    "\"department\": \"HR\"\n",
    "}\n",
    "\n",
    "# Serializing json\n",
    "json_object = json.dumps(dictionary, indent = 3)\n",
    "print(json_object)\n"
   ]
  },
  {
   "cell_type": "markdown",
   "metadata": {},
   "source": [
    "The following types of Python objects can be converted into JSON strings: \n",
    " \n",
    "\n",
    "dict\n",
    "list\n",
    "tuple\n",
    "string\n",
    "int\n",
    "float\n",
    "True\n",
    "False\n",
    "None\n",
    "Python objects and their equivalent conversion to JSON:\n",
    "\n",
    "    Python\t JSON Equivalent\n",
    "    dict\t object\n",
    "    list,    tuple\tarray\n",
    "    str\t     string\n",
    "    int,     float\tnumber\n",
    "    True\t true\n",
    "    False\t false\n",
    "    None\t null\n",
    "\n",
    "**Writing JSON to a file**\n",
    "\n",
    "json.dump() method can be used for writing to JSON file.\n",
    "\n",
    "Syntax:\n",
    "\n",
    " <Code>json.dump(dict, file_pointer)</Code>\n",
    " \n",
    "It takes 2 parameters:\n",
    "\n",
    "dictionary – name of dictionary which should be converted to JSON object.\n",
    "file pointer – pointer of the file opened in write or append mode.\n"
   ]
  },
  {
   "cell_type": "code",
   "execution_count": 41,
   "metadata": {},
   "outputs": [],
   "source": [
    "# Python program to write JSON\n",
    "# to a file\n",
    "\n",
    "\n",
    "import json\n",
    "\n",
    "# Data to be written\n",
    "dictionary ={\n",
    "\t\"name\" : \"sathiyajith\",\n",
    "\t\"rollno\" : 56,\n",
    "\t\"cgpa\" : 8.6,\n",
    "\t\"phonenumber\" : \"9976770500\"\n",
    "}\n",
    "\n",
    "with open(\"sample.json\", \"w\") as outfile:\n",
    "\tjson.dump(dictionary, outfile)\n"
   ]
  },
  {
   "cell_type": "code",
   "execution_count": null,
   "metadata": {},
   "outputs": [],
   "source": []
  }
 ],
 "metadata": {
  "anaconda-cloud": {},
  "kernelspec": {
   "display_name": "Python 3 (ipykernel)",
   "language": "python",
   "name": "python3"
  },
  "language_info": {
   "codemirror_mode": {
    "name": "ipython",
    "version": 3
   },
   "file_extension": ".py",
   "mimetype": "text/x-python",
   "name": "python",
   "nbconvert_exporter": "python",
   "pygments_lexer": "ipython3",
   "version": "3.9.6"
  }
 },
 "nbformat": 4,
 "nbformat_minor": 2
}
