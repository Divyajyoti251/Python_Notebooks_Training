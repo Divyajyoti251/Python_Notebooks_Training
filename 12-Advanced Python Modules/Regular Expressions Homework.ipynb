{
 "cells": [
  {
   "cell_type": "markdown",
   "id": "de310530",
   "metadata": {},
   "source": [
    "1. Which module in Python supports regular expressions?\n",
    "\n",
    "        a) re\n",
    "        b) regex\n",
    "        c) pyregex\n",
    "        d) none of the mentioned\n",
    "\n",
    "2. Which of the following creates a pattern object?\n",
    "\n",
    "        a) re.create(str)\n",
    "        b) re.regex(str)\n",
    "        c) re.compile(str)\n",
    "        d) re.assemble(str)\n",
    "\n",
    "3. What does the function re.match do?\n",
    "\n",
    "        a) matches a pattern at the start of the string\n",
    "        b) matches a pattern at any position in the string\n",
    "        c) such a function does not exist\n",
    "        d) none of the mentioned\n",
    "\n",
    "4. What does the function re.search do?\n",
    "\n",
    "        a) matches a pattern at the start of the string\n",
    "        b) matches a pattern at any position in the string\n",
    "        c) such a function does not exist\n",
    "        d) none of the mentioned\n",
    "\n",
    "5. What will be the output of the following Python code?\n",
    "    \n",
    "    <Code>sentence = 'we are humans'\n",
    "    matched = re.match(r'(.*) (.*?) (.*)', sentence)\n",
    "    print(matched.groups()) </Code>\n",
    "    \n",
    "        a) (‘we’, ‘are’, ‘humans’)\n",
    "        b) (we, are, humans)\n",
    "        c) (‘we’, ‘humans’)\n",
    "        d) ‘we are humans’\n",
    "\n",
    "6. What will be the output of the following Python code?\n",
    "\n",
    "<Code>sentence = 'we are humans'\n",
    "matched = re.match(r'(.*) (.*?) (.*)', sentence)\n",
    "print(matched.group()) </Code>\n",
    "\n",
    "    a) (‘we’, ‘are’, ‘humans’)\n",
    "    b) (we, are, humans)\n",
    "    c) (‘we’, ‘humans’)\n",
    "    d) ‘we are humans’"
   ]
  },
  {
   "cell_type": "code",
   "execution_count": 3,
   "id": "66b75e24",
   "metadata": {},
   "outputs": [
    {
     "name": "stdout",
     "output_type": "stream",
     "text": [
      "Found a match\n",
      "Not Mtached\n"
     ]
    }
   ],
   "source": [
    "#Wap that matches a string that has an 'a' followed by on or more b's\n",
    "import re\n",
    "def text_match(text):\n",
    "    pattern = 'ab+?'\n",
    "    if(re.search(pattern,text)):\n",
    "        return 'Found a match'\n",
    "    else:\n",
    "        return 'Not Mtached'\n",
    "    \n",
    "print(text_match('ab'))\n",
    "print(text_match('a'))"
   ]
  },
  {
   "cell_type": "code",
   "execution_count": 6,
   "id": "9df01b6a",
   "metadata": {},
   "outputs": [
    {
     "name": "stdout",
     "output_type": "stream",
     "text": [
      "Found a match\n",
      "Found a match\n"
     ]
    }
   ],
   "source": [
    "#Wap that matches a string that has an 'a' followed by 3 b's\n",
    "\n",
    "import re\n",
    "def text_match(text):\n",
    "    pattern = 'ab{2,3}'\n",
    "    if(re.search(pattern,text)):\n",
    "        return 'Found a match'\n",
    "    else:\n",
    "        return 'Not Mtached'\n",
    "    \n",
    "print(text_match('abbb'))\n",
    "print(text_match('abb'))"
   ]
  },
  {
   "cell_type": "code",
   "execution_count": 8,
   "id": "5142d027",
   "metadata": {},
   "outputs": [
    {
     "name": "stdout",
     "output_type": "stream",
     "text": [
      "Found a match\n",
      "Not Mtached\n"
     ]
    }
   ],
   "source": [
    "#wap to find sequences of lowercase letters joined with underscore\n",
    "import re\n",
    "def text_match(text):\n",
    "    pattern = '^[a-z]+_[a-z]+$'\n",
    "    if(re.search(pattern,text)):\n",
    "        return 'Found a match'\n",
    "    else:\n",
    "        return 'Not Mtached'\n",
    "    \n",
    "print(text_match('ab_cbbbc'))\n",
    "print(text_match('aab_Abbc'))"
   ]
  },
  {
   "cell_type": "code",
   "execution_count": 11,
   "id": "04004f65",
   "metadata": {},
   "outputs": [
    {
     "name": "stdout",
     "output_type": "stream",
     "text": [
      "Found a match\n",
      "Not Mtached\n"
     ]
    }
   ],
   "source": [
    "#wap that matches a string that has an 'a' followed by anything but ending with 'b'\n",
    "import re\n",
    "def text_match(text):\n",
    "    pattern = '^a.*b$'\n",
    "    if(re.search(pattern,text)):\n",
    "        return 'Found a match'\n",
    "    else:\n",
    "        return 'Not Mtached'\n",
    "    \n",
    "print(text_match('aggfgfdgsdsgdfsb'))\n",
    "print(text_match('aab_Abbc'))"
   ]
  },
  {
   "cell_type": "code",
   "execution_count": 13,
   "id": "231730a3",
   "metadata": {},
   "outputs": [
    {
     "name": "stdout",
     "output_type": "stream",
     "text": [
      "Found a match\n",
      "Found a match\n"
     ]
    }
   ],
   "source": [
    "#wap to match a string that contains only uppercase and lowercase letters,numbers and underscores\n",
    "import re\n",
    "def text_match(text):\n",
    "    pattern = '^[a-zA-Z0-9_]*$'\n",
    "    if(re.search(pattern,text)):\n",
    "        return 'Found a match'\n",
    "    else:\n",
    "        return 'Not Mtached'\n",
    "    \n",
    "print(text_match('abcbbbc'))\n",
    "print(text_match('aab_Abbc'))"
   ]
  },
  {
   "cell_type": "code",
   "execution_count": null,
   "id": "86dfed06",
   "metadata": {},
   "outputs": [],
   "source": []
  }
 ],
 "metadata": {
  "kernelspec": {
   "display_name": "Python 3 (ipykernel)",
   "language": "python",
   "name": "python3"
  },
  "language_info": {
   "codemirror_mode": {
    "name": "ipython",
    "version": 3
   },
   "file_extension": ".py",
   "mimetype": "text/x-python",
   "name": "python",
   "nbconvert_exporter": "python",
   "pygments_lexer": "ipython3",
   "version": "3.9.6"
  }
 },
 "nbformat": 4,
 "nbformat_minor": 5
}
