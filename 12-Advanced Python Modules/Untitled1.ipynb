{
 "cells": [
  {
   "cell_type": "code",
   "execution_count": 1,
   "id": "e27ac87a",
   "metadata": {},
   "outputs": [
    {
     "name": "stdout",
     "output_type": "stream",
     "text": [
      "Started writing Json data into a file..\n",
      "Done writing Json data\n"
     ]
    }
   ],
   "source": [
    "#wap to sort Json keys and write them into a file\n",
    "\n",
    "sampleJson = {\"id\":1,\"name\":\"value2\",\"age\":29}\n",
    "\n",
    "#expected output \n",
    " #{\n",
    " #    \"age\":29,\n",
    " #    \"id\":1,\n",
    " #    \"name\":\"value2\"\n",
    "# }\n",
    "import json\n",
    "print(\"Started writing Json data into a file..\")\n",
    "with open(\"sampleJson.json\",\"w\") as f:\n",
    "    json.dump(sampleJson,f,indent=4,sort_keys=True)\n",
    "print(\"Done writing Json data\")"
   ]
  },
  {
   "cell_type": "code",
   "execution_count": 3,
   "id": "49d05dfa",
   "metadata": {},
   "outputs": [
    {
     "name": "stdout",
     "output_type": "stream",
     "text": [
      "{\n",
      "    \"name\": \"Toyota\",\n",
      "    \"engine\": \"2.5L\",\n",
      "    \"price\": 3200000\n",
      "}\n"
     ]
    }
   ],
   "source": [
    "#wap to convert the Vehicle object into Json\n",
    "import json\n",
    "from json import JSONEncoder\n",
    "\n",
    "class Vehicle:\n",
    "    def __init__(self,name,engine,price):\n",
    "        self.name=name\n",
    "        self.engine = engine\n",
    "        self.price=price\n",
    "\n",
    "vehicle = Vehicle(\"Toyota\",\"2.5L\",3200000)\n",
    "\n",
    "class VehicleEncoder(JSONEncoder):\n",
    "    def default(self,o):\n",
    "        return o.__dict__\n",
    "\n",
    "vehicle_json= json.dumps(vehicle,indent=4,cls=VehicleEncoder)\n",
    "print(vehicle_json)"
   ]
  },
  {
   "cell_type": "markdown",
   "id": "221414b3",
   "metadata": {},
   "source": [
    "An XML document can be depicted using what kind of structure?\n",
    "A. Paragraph\n",
    "B. Tree\n",
    "C. Stem and Leaf\n",
    "D. Nested\n",
    "\n",
    "What language is XML most similar to?\n",
    "\n",
    "A. CSS\n",
    "B. Python\n",
    "C. JavaScript\n",
    "D. HTML\n",
    "\n",
    "Which function searches through the XML tree and retrieves the element that matches the specified tag.\n",
    "\n",
    "A. find\n",
    "B. findtag\n",
    "C. match\n",
    "D. xmltag\n",
    "\n",
    "True or False? An XML tree can only have one node.\n",
    "\n",
    "A. True\n",
    "B. False\n",
    "\n",
    "The JSON format is most similar to which of the following?\n",
    "\n",
    "A. JavaScript arrays\n",
    "B. JavaScript\n",
    "C. XML nodes\n",
    "D. Python lists and dictionaries\n",
    "\n",
    "True or False? JSON maps directly to dictionaries and lists.\n",
    "\n",
    "A. True\n",
    "B. False\n",
    "\n",
    "There is an industry trend away from _______.\n",
    "\n",
    "A. XML\n",
    "B. JSON\n",
    "\n",
    "Which format is constructed by nesting dictionaries and lists as needed.\n",
    "\n",
    "A. XML\n",
    "B. JSON"
   ]
  }
 ],
 "metadata": {
  "kernelspec": {
   "display_name": "Python 3 (ipykernel)",
   "language": "python",
   "name": "python3"
  },
  "language_info": {
   "codemirror_mode": {
    "name": "ipython",
    "version": 3
   },
   "file_extension": ".py",
   "mimetype": "text/x-python",
   "name": "python",
   "nbconvert_exporter": "python",
   "pygments_lexer": "ipython3",
   "version": "3.9.6"
  }
 },
 "nbformat": 4,
 "nbformat_minor": 5
}
