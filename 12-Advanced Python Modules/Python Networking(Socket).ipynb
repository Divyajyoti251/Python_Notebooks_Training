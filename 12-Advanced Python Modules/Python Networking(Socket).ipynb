{
 "cells": [
  {
   "cell_type": "markdown",
   "id": "3dbbfe2a",
   "metadata": {},
   "source": [
    "# Intro\n",
    "\n",
    "Python provides two levels of access to network services. At a low level, you can access the basic socket support in the underlying operating system, which allows you to implement clients and servers for both connection-oriented and connectionless protocols.\n",
    "\n",
    "Python also has libraries that provide higher-level access to specific application-level network protocols, such as FTP, HTTP, and so on.\n",
    "\n",
    "This chapter gives you understanding on most famous concept in Networking - Socket Programming.\n",
    "\n",
    "What is Sockets?\n",
    "Sockets are the endpoints of a bidirectional communications channel. Sockets may communicate within a process, between processes on the same machine, or between processes on different continents.\n",
    "\n",
    "Sockets may be implemented over a number of different channel types: Unix domain sockets, TCP, UDP, and so on. The socket library provides specific classes for handling the common transports as well as a generic interface for handling the rest.\n",
    "\n",
    "Sockets have their own vocabulary −"
   ]
  },
  {
   "cell_type": "markdown",
   "id": "75c211bd",
   "metadata": {},
   "source": [
    "1.Domain\n",
    "\n",
    "The family of protocols that is used as the transport mechanism. These values are constants such as AF_INET, PF_INET, PF_UNIX, PF_X25, and so on.\n",
    "\n",
    "2\t\n",
    "type\n",
    "\n",
    "The type of communications between the two endpoints, typically SOCK_STREAM for connection-oriented protocols and SOCK_DGRAM for connectionless protocols.\n",
    "\n",
    "3\t\n",
    "protocol\n",
    "\n",
    "Typically zero, this may be used to identify a variant of a protocol within a domain and type.\n",
    "\n",
    "4\t\n",
    "hostname\n",
    "\n",
    "The identifier of a network interface −\n",
    "\n",
    "A string, which can be a host name, a dotted-quad address, or an IPV6 address in colon (and possibly dot) notation\n",
    "\n",
    "A string \"<broadcast>\", which specifies an INADDR_BROADCAST address.\n",
    "\n",
    "A zero-length string, which specifies INADDR_ANY, or\n",
    "\n",
    "An Integer, interpreted as a binary address in host byte order.\n",
    "\n",
    "5\t\n",
    "port\n",
    "\n",
    "Each server listens for clients calling on one or more ports. A port may be a Fixnum port number, a string containing a port number, or the name of a service.\n",
    "\n",
    "AD"
   ]
  },
  {
   "cell_type": "markdown",
   "id": "e574a066",
   "metadata": {},
   "source": [
    "# The socket Module\n",
    "\n",
    "To create a socket, you must use the socket.socket() function available in socket module, which has the general syntax −\n",
    "\n",
    "s = socket.socket (socket_family, socket_type, protocol=0)\n",
    "Here is the description of the parameters −\n",
    "\n",
    "socket_family − This is either AF_UNIX or AF_INET, as explained earlier.\n",
    "\n",
    "socket_type − This is either SOCK_STREAM or SOCK_DGRAM.\n",
    "\n",
    "protocol − This is usually left out, defaulting to 0.\n",
    "\n",
    "Once you have socket object, then you can use required functions to create your client or server program. Following is the list of functions required −"
   ]
  },
  {
   "cell_type": "markdown",
   "id": "2fd47adc",
   "metadata": {},
   "source": [
    "# Server Socket Methods\n",
    "Sr.No.\tMethod & Description\n",
    "1\t\n",
    "s.bind()\n",
    "\n",
    "This method binds address (hostname, port number pair) to socket.\n",
    "\n",
    "2\t\n",
    "s.listen()\n",
    "\n",
    "This method sets up and start TCP listener.\n",
    "\n",
    "3\t\n",
    "s.accept()\n",
    "\n",
    "This passively accept TCP client connection, waiting until connection arrives (blocking)."
   ]
  },
  {
   "cell_type": "markdown",
   "id": "7ae079b6",
   "metadata": {},
   "source": [
    "# Client Socket Methods\n",
    "Sr.No.\tMethod & Description\n",
    "1\t\n",
    "s.connect()\n",
    "\n",
    "This method actively initiates TCP server connection."
   ]
  },
  {
   "cell_type": "markdown",
   "id": "6846bb1a",
   "metadata": {},
   "source": [
    "# General Socket Methods\n",
    "Sr.No.\tMethod & Description\n",
    "1\t\n",
    "s.recv()\n",
    "\n",
    "This method receives TCP message\n",
    "\n",
    "2\t\n",
    "s.send()\n",
    "\n",
    "This method transmits TCP message\n",
    "\n",
    "3\t\n",
    "s.recvfrom()\n",
    "\n",
    "This method receives UDP message\n",
    "\n",
    "4\t\n",
    "s.sendto()\n",
    "\n",
    "This method transmits UDP message\n",
    "\n",
    "5\t\n",
    "s.close()\n",
    "\n",
    "This method closes socket\n",
    "\n",
    "6\t\n",
    "socket.gethostname()\n",
    "\n",
    "Returns the hostname"
   ]
  },
  {
   "cell_type": "markdown",
   "id": "fd663781",
   "metadata": {},
   "source": [
    "# A Simple Server\n",
    "To write Internet servers, we use the socket function available in socket module to create a socket object. A socket object is then used to call other functions to setup a socket server.\n",
    "\n",
    "Now call bind(hostname, port) function to specify a port for your service on the given host.\n",
    "\n",
    "Next, call the accept method of the returned object. This method waits until a client connects to the port you specified, and then returns a connection object that represents the connection to that client."
   ]
  },
  {
   "cell_type": "code",
   "execution_count": null,
   "id": "e04ad16c",
   "metadata": {},
   "outputs": [],
   "source": [
    "import socket               # Import socket module\n",
    "\n",
    "s = socket.socket()         # Create a socket object\n",
    "host = socket.gethostname() # Get local machine name\n",
    "port = 12345                # Reserve a port for your service.\n",
    "s.bind((host, port))        # Bind to the port\n",
    "\n",
    "s.listen(5)                 # Now wait for client connection.\n",
    "while True:\n",
    "   c, addr = s.accept()     # Establish connection with client.\n",
    "   print('Got connection from', addr)\n",
    "   c.send('Thank you for connecting')\n",
    "   c.close()                # Close the connection"
   ]
  },
  {
   "cell_type": "markdown",
   "id": "51b81fde",
   "metadata": {},
   "source": [
    "# A Simple Client\n",
    "Let us write a very simple client program which opens a connection to a given port 12345 and given host. This is very simple to create a socket client using Python's socket module function.\n",
    "\n",
    "The socket.connect(hosname, port ) opens a TCP connection to hostname on the port. Once you have a socket open, you can read from it like any IO object. When done, remember to close it, as you would close a file.\n",
    "\n",
    "The following code is a very simple client that connects to a given host and port, reads any available data from the socket, and then exits −"
   ]
  },
  {
   "cell_type": "code",
   "execution_count": null,
   "id": "1f4718c5",
   "metadata": {},
   "outputs": [],
   "source": [
    "import socket               # Import socket module\n",
    "\n",
    "s = socket.socket()         # Create a socket object\n",
    "host = socket.gethostname() # Get local machine name\n",
    "port = 123456                # Reserve a port for your service.\n",
    "\n",
    "s.connect((host, port))\n",
    "print s.recv(1024)\n",
    "s.close()                     # Close the socket when done"
   ]
  },
  {
   "cell_type": "code",
   "execution_count": null,
   "id": "6d9f09b2",
   "metadata": {},
   "outputs": [],
   "source": []
  }
 ],
 "metadata": {
  "kernelspec": {
   "display_name": "Python 3 (ipykernel)",
   "language": "python",
   "name": "python3"
  },
  "language_info": {
   "codemirror_mode": {
    "name": "ipython",
    "version": 3
   },
   "file_extension": ".py",
   "mimetype": "text/x-python",
   "name": "python",
   "nbconvert_exporter": "python",
   "pygments_lexer": "ipython3",
   "version": "3.9.6"
  }
 },
 "nbformat": 4,
 "nbformat_minor": 5
}
