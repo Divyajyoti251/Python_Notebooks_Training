{
 "cells": [
  {
   "cell_type": "markdown",
   "id": "93fefe07",
   "metadata": {},
   "source": [
    "# •\tShell script commands\n",
    "\n",
    "This article starts with a basic introduction to Python shell commands and why one should use them. It also describes the three primary ways to run Python shell commands.\n",
    "\n",
    "os.system()\n",
    "subprocess.run()\n",
    "subprocess.Popen() \n",
    "\n",
    "What is a shell in the os?\n",
    "In programming, the shell is a software interface for accessing the functionality of the operating system. Shells in the operating system can be either a CLI (Command Line Interface) or a GUI (Graphical User Interface) based on the functionality and basic operation of the device.\n",
    "\n",
    "Executing Shell Commands with Python using the subprocess module\n",
    "The Python subprocess module can be used to run new programs or applications. Getting the input/output/error pipes and exit codes of different commands is also helpful.\n",
    "\n",
    "subprocess.Popen()\n",
    "\n",
    "\n",
    "Here. we are using the subprocess.Popen() method to execute the echo shell script using Python. You can give more arguments to the Popen function Object() , like shell=True, which will make the command run in a separate shell."
   ]
  },
  {
   "cell_type": "code",
   "execution_count": 3,
   "id": "107e839a",
   "metadata": {},
   "outputs": [
    {
     "data": {
      "text/plain": [
       "<Popen: returncode: None args: 'echo \"Geeks 4 Geeks\"'>"
      ]
     },
     "execution_count": 3,
     "metadata": {},
     "output_type": "execute_result"
    }
   ],
   "source": [
    "import subprocess\n",
    " \n",
    "# Using system() method to\n",
    "# execute shell commands\n",
    "subprocess.Popen('echo \"Geeks 4 Geeks\"', shell=True)"
   ]
  },
  {
   "cell_type": "markdown",
   "id": "ba2faf96",
   "metadata": {},
   "source": [
    "subprocess.run()\n",
    "\n",
    "Here. we are using the system() method to execute the pwd shell script using Python. run() is more flexible and quicker approach to run shell scripts, utilise the Popen function."
   ]
  },
  {
   "cell_type": "code",
   "execution_count": 3,
   "id": "be1d6bd5",
   "metadata": {},
   "outputs": [
    {
     "data": {
      "text/plain": [
       "CompletedProcess(args=['powershell', 'pwd'], returncode=0)"
      ]
     },
     "execution_count": 3,
     "metadata": {},
     "output_type": "execute_result"
    }
   ],
   "source": [
    "import subprocess\n",
    " \n",
    "# Using system() method to\n",
    "# execute shell commands\n",
    "subprocess.run([\"powershell\", \"pwd\"], shell=True)"
   ]
  },
  {
   "cell_type": "markdown",
   "id": "c35beb4d",
   "metadata": {},
   "source": [
    "Executing Shell Commands with Python using the os module\n",
    "The os module in Python includes functionality to communicate with the operating system. It is one of the standard utility modules of Python. It also offers a convenient way to use operating system-dependent features, shell commands can be executed using the system() method in the os module.\n",
    "\n",
    "Example 1:\n",
    "\n",
    "Here. we are using the system() method to execute shell commands of echo."
   ]
  },
  {
   "cell_type": "code",
   "execution_count": 4,
   "id": "c9a1912d",
   "metadata": {},
   "outputs": [
    {
     "data": {
      "text/plain": [
       "0"
      ]
     },
     "execution_count": 4,
     "metadata": {},
     "output_type": "execute_result"
    }
   ],
   "source": [
    "import os\n",
    " \n",
    "os.system('echo \"Geeks 4 Geeks\"')"
   ]
  },
  {
   "cell_type": "code",
   "execution_count": 5,
   "id": "a217936d",
   "metadata": {},
   "outputs": [
    {
     "data": {
      "text/plain": [
       "1"
      ]
     },
     "execution_count": 5,
     "metadata": {},
     "output_type": "execute_result"
    }
   ],
   "source": [
    "import os\n",
    " \n",
    "os.system('pwd')"
   ]
  },
  {
   "cell_type": "markdown",
   "id": "6e98c4cd",
   "metadata": {},
   "source": [
    "ShutDown and Restart the System \n",
    "\n",
    "For ShutDown : \n",
    "  os.system(\"shutdown /s/t 1\")\n",
    "\n",
    "For restart : \n",
    "  os.system(\"shutdown /r/t 1\")\n",
    "\n",
    "for Logout :\n",
    "  os.system(\"shutdown -l\")\n",
    "  "
   ]
  },
  {
   "cell_type": "markdown",
   "id": "a43a7e19",
   "metadata": {},
   "source": [
    "Renaming File and Directories\n",
    "\n",
    "#syntax\n",
    "os.rename(oldname,newname)"
   ]
  }
 ],
 "metadata": {
  "kernelspec": {
   "display_name": "Python 3 (ipykernel)",
   "language": "python",
   "name": "python3"
  },
  "language_info": {
   "codemirror_mode": {
    "name": "ipython",
    "version": 3
   },
   "file_extension": ".py",
   "mimetype": "text/x-python",
   "name": "python",
   "nbconvert_exporter": "python",
   "pygments_lexer": "ipython3",
   "version": "3.9.6"
  }
 },
 "nbformat": 4,
 "nbformat_minor": 5
}
