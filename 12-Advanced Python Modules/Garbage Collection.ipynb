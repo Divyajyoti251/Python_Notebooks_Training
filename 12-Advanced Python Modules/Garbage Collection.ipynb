{
 "cells": [
  {
   "cell_type": "markdown",
   "id": "f2b5486a",
   "metadata": {},
   "source": [
    "# Garbage Collection\n",
    "\n",
    "1. A garbage collection in python manages the memory automatically and heap allocation. In simpler terms, the process of            automatic deletion of unwanted or unused objects to free the momory is called Garbage collection in python\n",
    "2. The python Interpretor schedules the garbage collection because discovering the reference cycle is computational work.\n",
    "3. Python uses two startegies to implement Garbage collection.The first one is Reference Counting and other one is the              Generational garbage collection\n"
   ]
  },
  {
   "cell_type": "code",
   "execution_count": 1,
   "id": "13a10112",
   "metadata": {},
   "outputs": [],
   "source": [
    "# Create an Object\n",
    "x=[1,2,3]\n",
    "\n",
    "#Increment reference count\n",
    "y=x\n",
    "\n",
    "#Decrement refrence count\n",
    "y=None"
   ]
  },
  {
   "cell_type": "code",
   "execution_count": 1,
   "id": "d0cfd4ba",
   "metadata": {},
   "outputs": [
    {
     "ename": "NameError",
     "evalue": "name 'ref' is not defined",
     "output_type": "error",
     "traceback": [
      "\u001b[1;31m---------------------------------------------------------------------------\u001b[0m",
      "\u001b[1;31mNameError\u001b[0m                                 Traceback (most recent call last)",
      "Cell \u001b[1;32mIn[1], line 5\u001b[0m\n\u001b[0;32m      1\u001b[0m \u001b[38;5;28;01mimport\u001b[39;00m \u001b[38;5;21;01msys\u001b[39;00m\n\u001b[0;32m      3\u001b[0m x\u001b[38;5;241m=\u001b[39m[\u001b[38;5;241m1\u001b[39m,\u001b[38;5;241m2\u001b[39m,\u001b[38;5;241m3\u001b[39m]\n\u001b[1;32m----> 5\u001b[0m \u001b[43mref\u001b[49m\n",
      "\u001b[1;31mNameError\u001b[0m: name 'ref' is not defined"
     ]
    }
   ],
   "source": [
    "import sys\n",
    "\n",
    "x=[1,2,3]\n",
    "\n",
    "ref"
   ]
  },
  {
   "cell_type": "markdown",
   "id": "0734ca41",
   "metadata": {},
   "source": [
    "# Garbage collection\n",
    "Garbage collection is a memory management technique used in programming languages to automatically reclaim memory that is no longer accessible or in use by the application. It helps prevent memory leaks, optimize memory usage, and ensure efficient memory allocation for the program.\n",
    "\n",
    "Generational Garbage Collection\n",
    "When attempting to add an object to a reference counter, a cyclical reference or reference cycle is produced. Because the object’s reference counter could never reach 0 (due to cycle), a reference counter cannot destroy the object. Therefore, in situations like this, we employ the universal waste collector. It operates and releases the memory used. A Generational Garbage Collector can be found in the standard library’s gc module.\n",
    "\n",
    "Automatic Garbage Collection of Cycles\n",
    "Because reference cycles take computational work to discover, garbage collection must be a scheduled activity. Python schedules garbage collection based upon a threshold of object allocations and object deallocations. When the number of allocations minus the number of deallocations is greater than the threshold number, the garbage collector is run. One can inspect the threshold for new objects (objects in Python known as generation 0 objects) by importing the gc module and asking for garbage collection thresholds"
   ]
  },
  {
   "cell_type": "code",
   "execution_count": 1,
   "id": "db247a73",
   "metadata": {},
   "outputs": [
    {
     "name": "stdout",
     "output_type": "stream",
     "text": [
      "Garbage collection thresholds: (700, 10, 10)\n"
     ]
    },
    {
     "data": {
      "text/plain": [
       "(700, 10, 10)"
      ]
     },
     "execution_count": 1,
     "metadata": {},
     "output_type": "execute_result"
    }
   ],
   "source": [
    "import gc\n",
    " \n",
    "# get the current collection\n",
    "# thresholds as a tuple\n",
    "print(\"Garbage collection thresholds:\",\n",
    "                    gc.get_threshold())\n",
    "##help(gc.get_threshold())\n",
    "#gc.set_threshold(1000,20,20)\n",
    "gc.get_threshold()"
   ]
  },
  {
   "cell_type": "markdown",
   "id": "7370f094",
   "metadata": {},
   "source": [
    "Here, the default threshold on the above system is 700. This means when the number of allocations vs. the number of deallocations is greater than 700 the automatic garbage collector will run. Thus any portion of your code which frees up large blocks of memory is a good candidate for running manual garbage collection. \n",
    "\n",
    "Manual Garbage Collection\n",
    "Invoking the garbage collector manually during the execution of a program can be a good idea for how to handle memory being consumed by reference cycles. \n",
    "The garbage collection can be invoked manually in the following way: "
   ]
  },
  {
   "cell_type": "code",
   "execution_count": 2,
   "id": "77d12bee",
   "metadata": {},
   "outputs": [
    {
     "name": "stdout",
     "output_type": "stream",
     "text": [
      "Garbage collector: collected 29 objects.\n"
     ]
    }
   ],
   "source": [
    "# Importing gc module\n",
    "import gc\n",
    " \n",
    "# Returns the number of\n",
    "# objects it has collected\n",
    "# and deallocated\n",
    "collected = gc.collect()\n",
    " \n",
    "# Prints Garbage collector\n",
    "# as 0 object\n",
    "print(\"Garbage collector: collected\",\n",
    "          \"%d objects.\" % collected)"
   ]
  },
  {
   "cell_type": "code",
   "execution_count": 3,
   "id": "ad0aec91",
   "metadata": {},
   "outputs": [
    {
     "name": "stdout",
     "output_type": "stream",
     "text": [
      "Garbage collector: collected 0 objects.\n",
      "Creating cycles...\n",
      "{1: {...}}\n",
      "{2: {...}}\n",
      "{3: {...}}\n",
      "{4: {...}}\n",
      "{5: {...}}\n",
      "{6: {...}}\n",
      "{7: {...}}\n",
      "{8: {...}}\n",
      "{9: {...}}\n",
      "{10: {...}}\n",
      "Garbage collector: collected 10 objects.\n"
     ]
    }
   ],
   "source": [
    "#If few cycles are created, then how manual collection works: \n",
    "import gc\n",
    "i = 0\n",
    " \n",
    "# create a cycle and on each iteration x as a dictionary\n",
    "# assigned to 1\n",
    "def create_cycle():\n",
    "    x = { }\n",
    "    x[i+1] = x\n",
    "    print(x)\n",
    " \n",
    "# lists are cleared whenever a full collection or\n",
    "# collection of the highest generation (2) is run\n",
    "collected = gc.collect() # or gc.collect(2)\n",
    "print(\"Garbage collector: collected %d objects.\" % (collected))\n",
    " \n",
    "print(\"Creating cycles...\")\n",
    "for i in range(10):\n",
    "    create_cycle()\n",
    " \n",
    "collected = gc.collect()\n",
    " \n",
    "print(\"Garbage collector: collected %d objects.\" % (collected))"
   ]
  },
  {
   "cell_type": "markdown",
   "id": "d31c9eb6",
   "metadata": {},
   "source": [
    "There are two ways for performing manual garbage collection: time-based and event-based garbage collection. \n",
    "\n",
    "Time-based garbage collection is simple: the garbage collector is called after a fixed time interval. \n",
    "Event-based garbage collection calls the garbage collector on event occurrence. For example, when a user exits the application or when the application enters into an idle state. \n",
    "Forced Garbage Collection\n",
    "In Python, the garbage collector runs automatically and periodically to clean up objects that are no longer referenced and thus are eligible for garbage collection. However, in some cases, you may want to force garbage collection to occur immediately. You can do this using the gc. collect() function provided by the gc module."
   ]
  },
  {
   "cell_type": "code",
   "execution_count": 6,
   "id": "f3366ccf",
   "metadata": {},
   "outputs": [
    {
     "data": {
      "text/plain": [
       "0"
      ]
     },
     "execution_count": 6,
     "metadata": {},
     "output_type": "execute_result"
    }
   ],
   "source": [
    "import gc\n",
    " \n",
    "# Create some objects\n",
    "obj1 = [1, 2, 3]\n",
    "obj2 = {\"a\": 1, \"b\": 2}\n",
    "obj3 = \"Hello, world!\"\n",
    " \n",
    "# Delete references to objects\n",
    "#del obj1\n",
    "#del obj2\n",
    "#del obj3\n",
    " \n",
    "# Force a garbage collection\n",
    "gc.collect()"
   ]
  },
  {
   "cell_type": "markdown",
   "id": "be27f233",
   "metadata": {},
   "source": [
    "**Disabling Garbage Collection**\n",
    "\n",
    "In Python, the garbage collector is enabled by default and automatically runs periodically to clean up objects that are no longer referenced and thus are eligible for garbage collection. However, in some cases, you may want to disable the garbage collector to prevent it from running. You can do this using the gc.disable() function provided by the gc module."
   ]
  },
  {
   "cell_type": "code",
   "execution_count": 7,
   "id": "937571fe",
   "metadata": {},
   "outputs": [
    {
     "data": {
      "text/plain": [
       "0"
      ]
     },
     "execution_count": 7,
     "metadata": {},
     "output_type": "execute_result"
    }
   ],
   "source": [
    "import gc\n",
    " \n",
    "# Disable the garbage collector\n",
    "gc.disable()\n",
    " \n",
    "# Create some objects\n",
    "obj1 = [1, 2, 3]\n",
    "obj2 = {\"a\": 1, \"b\": 2}\n",
    "obj3 = \"Hello, world!\"\n",
    " \n",
    "# Delete references to objects\n",
    "del obj1\n",
    "del obj2\n",
    "del obj3\n",
    "gc.collect()\n",
    "# The garbage collector is disabled, so it will not run"
   ]
  },
  {
   "cell_type": "markdown",
   "id": "e4e97253",
   "metadata": {},
   "source": [
    "Interacting with Python Garbage Collector\n",
    "A built-in mechanism called the Python garbage collector automatically eliminates objects that are no longer referenced in order to free up memory and stop memory leaks. The Python gc module offers a number of ways to interact with the garbage collector, which is often executed automatically.\n",
    "\n",
    "1. Enabling and disabling the garbage collector: You can enable or disable the garbage collector using the gc. enable() and gc. disable() functions, respectively. Example:"
   ]
  },
  {
   "cell_type": "code",
   "execution_count": null,
   "id": "32523ed2",
   "metadata": {},
   "outputs": [],
   "source": [
    "import gc\n",
    " \n",
    "# Disable the garbage collector\n",
    "gc.disable()\n",
    " \n",
    "# Enable the garbage collector\n",
    "gc.enable()"
   ]
  },
  {
   "cell_type": "markdown",
   "id": "67063cd4",
   "metadata": {},
   "source": [
    "2. Forcing garbage collection: You can manually trigger a garbage collection using the gc. collect() function. This can be useful in cases where you want to force immediate garbage collection instead of waiting for automatic garbage collection to occur. "
   ]
  },
  {
   "cell_type": "code",
   "execution_count": 10,
   "id": "0cad40e6",
   "metadata": {},
   "outputs": [
    {
     "data": {
      "text/plain": [
       "(700, 10, 10)"
      ]
     },
     "execution_count": 10,
     "metadata": {},
     "output_type": "execute_result"
    }
   ],
   "source": [
    "import gc\n",
    " \n",
    "# Trigger a garbage collection\n",
    "gc.collect()\n",
    "gc.get_threshold()"
   ]
  },
  {
   "cell_type": "markdown",
   "id": "b6915ade",
   "metadata": {},
   "source": [
    "3. Inspecting garbage collector settings: You can inspect the current settings of the garbage collector using the gc.get_threshold() function, which returns a tuple representing the current thresholds for generations 0, 1, and 2. "
   ]
  },
  {
   "cell_type": "markdown",
   "id": "3842f884",
   "metadata": {},
   "source": [
    "# Advantages and Disadvantages \n",
    "Let’s explore some of the benefits and drawbacks of Python’s garbage collection.\n",
    "\n",
    "Advantages :\n",
    "\n",
    "Automated memory management: To avoid memory leaks and lower the chance of running out of memory, the Python garbage collector automatically removes objects that are no longer referenced.\n",
    "Memory management made easier: The garbage collector frees developers from having to manually manage memory so they can concentrate on creating code, making Python a higher-level and more practical language for developers.\n",
    "Efficient memory cleanup: The garbage collector is designed to minimise performance effects while swiftly identifying and collecting short-lived objects via generational garbage collection.\n",
    "Customizable settings: The garbage collector provides options to customize its settings, such as adjusting the thresholds for different generations, allowing developers to fine-tune the garbage collection process based on their specific application requirements.\n",
    "\n",
    "Disadvantages :\n",
    "\n",
    "Impact on performance: Although the garbage collector is designed to efficiently clean up unused memory, there may still be some CPU consumption and execution time overhead, particularly when working with a large number of objects.\n",
    "The difficulty of memory management: Although Python’s garbage collector makes managing memory easier, using it successfully may still necessitate knowledge of concepts like object lifetimes, object references, and garbage collection algorithms.\n",
    "Limited control over memory management: The autonomous nature of the garbage collector leaves developers with little control over the precise timing and behaviour of memory cleanup, which may not be ideal for many application scenarios where fine-grained control over memory management is necessary.\n",
    "Bug potential: Although the garbage collector is intended to be dependable and effective, it is not impervious to errors or atypical behaviour, which could lead to memory leaks or improper object cleanup.\n"
   ]
  },
  {
   "cell_type": "markdown",
   "id": "9fef4fe0",
   "metadata": {},
   "source": [
    "#How the memory management in python is different from other langauage like Java?\n",
    "  other Langauage - \n",
    "    int a =12 \n",
    "   step1- 2 byte of memory is reserved as its int type\n",
    "   step2 - variable a is assigned to that memory location\n",
    "   step3 - value 12 is placed in that location\n",
    "   \n",
    "   \n",
    " in python a=12 means,\n",
    "  step1- object 12 is created\n",
    "  step2- variable a is labbled to that object\n",
    "  \n",
    "  a=12\n",
    "  b=a\n",
    "  c=b\n",
    "  a=b=c=12 three variable refrence\n",
    "  \n",
    "  c=23 a= 34\n",
    "  \n",
    "  del a"
   ]
  }
 ],
 "metadata": {
  "kernelspec": {
   "display_name": "Python 3 (ipykernel)",
   "language": "python",
   "name": "python3"
  },
  "language_info": {
   "codemirror_mode": {
    "name": "ipython",
    "version": 3
   },
   "file_extension": ".py",
   "mimetype": "text/x-python",
   "name": "python",
   "nbconvert_exporter": "python",
   "pygments_lexer": "ipython3",
   "version": "3.9.6"
  }
 },
 "nbformat": 4,
 "nbformat_minor": 5
}
