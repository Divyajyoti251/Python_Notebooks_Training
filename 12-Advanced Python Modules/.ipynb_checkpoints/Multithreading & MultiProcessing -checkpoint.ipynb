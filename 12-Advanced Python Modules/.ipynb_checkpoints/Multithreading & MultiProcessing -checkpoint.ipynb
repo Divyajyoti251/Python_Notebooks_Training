{
 "cells": [
  {
   "cell_type": "markdown",
   "id": "5b957d3c",
   "metadata": {},
   "source": [
    "# Intro\n",
    "\n",
    "Process vs. Thread\n",
    "A process is an execution environment of a computer program (e.g. a Python script). Multiple processes can be running the same program, but they can use different data and compute resources.\n",
    "\n",
    "A thread is a unit of execution in a process. Threads can only execute instructions serially, but a process can have multiple threads running concurrently, taking on different parts of the task.\n",
    "\n",
    "Global Interpreter Lock (GIL)\n",
    "The concept of the Global Interpreter Lock (GIL) is crucial to understanding multithreading and multiprocessing in Python. GIL is a process lock that prevents multiple threads from executing simultaneously in a Python process. Even though multiple threads can be running concurrently in a process, only one thread can be executing code at any given time, and the rest must be waiting.\n",
    "\n",
    "Multithreading\n",
    "Multithreading means having the same process run multiple threads concurrently, sharing the same CPU and memory. However, because of the GIL in Python, not all tasks can be executed faster by using multithreading. Multiple threads cannot execute code simultaneous, but when one thread is idly waiting, another thread can start executing code.\n",
    "\n",
    "This is why multithreading in Python is perfect for I/O bound tasks, which are tasks whose execution time is primarily bound by the time spent waiting for input and output. Examples of tasks that can greatly speed up by using multithreading include downloading data from the Internet and writing data to files.\n",
    "\n",
    "In the example Python code below, both threads are performing an I/O bound task of sleeping for 1 second. By using multithreading, the second task will start without waiting for the first task to finish, and therefore the entire process takes just over 1 second to execute instead of taking 2 seconds.\n",
    "\n",
    "import time\n",
    "import threading\n",
    "def some_task():\n",
    "    time.sleep(1)\n",
    "    print(\"Finished task\")\n",
    "if __name__ == \"__main__\":\n",
    "    start = time.time()\n",
    "    # Create two threads\n",
    "    t1 = threading.Thread(target=some_task)\n",
    "    t2 = threading.Thread(target=some_task)\n",
    "    # Start running both threads\n",
    "    t1.start()\n",
    "    t2.start()\n",
    "    # Wait until both threads are complete, and join the process into a single thread\n",
    "    t1.join()\n",
    "    t2.join()\n",
    "    end = time.time()\n",
    "    print(f\"Finished process in {end - start} seconds\")\n",
    "Multiprocessing\n",
    "Multiprocessing is when multiple processes are spawn from the main process, each having its own CPU and memory. Each process also has its own GIL, which means concurrent processes can execute code simultaneously.\n",
    "\n",
    "Multiprocessing in Python is perfect for CPU bound tasks, which are tasks whose execution time is primarily bound by the speed of the CPU. Tasks that have a high utilization of the CPU can be speed up by using multiprocessing, because the workload is spread among multiple CPUs.\n",
    "\n",
    "In the example Python code below, both processes are performing a CPU bound task of computing 1+1 a hundred million times. By using multiprocessing, they will execute simultaneously and only take roughly half the time to complete.\n",
    "\n",
    "import time\n",
    "import multiprocessing\n",
    "def some_task():\n",
    "    for _ in range(100_000_000):\n",
    "        x = 1 + 1\n",
    "    print(\"Finished task\")\n",
    "if __name__ == \"__main__\":\n",
    "    start = time.time()\n",
    "    # Create two threads\n",
    "    p1 = multiprocessing.Process(target=some_task)\n",
    "    p2 = multiprocessing.Process(target=some_task)\n",
    "    # Start running both threads\n",
    "    p1.start()\n",
    "    p2.start()\n",
    "    # Wait until both threads are complete, and join the process into a single thread\n",
    "    p1.join()\n",
    "    p2.join()\n",
    "    end = time.time()\n",
    "    print(f\"Finished process in {end - start} seconds\")\n",
    "concurrent.futures\n",
    "Python 3.2 introduced the concurrent.futures module that provides a simpler interface to bring together both the threading and multiprocessing modules. It makes use of the ThreadPoolExecutor and ProcessPoolExecutor classes to manage thread and process pools, which share much of the same interface to make switching between multithreading and multiprocessing easier. Interface aside, the concurrent.futures module is conceptually the same as the threading and multiprocessing modules.\n",
    "\n",
    "Shared Memory and Race Conditions\n",
    "The process has some global state that can be shared among all threads, and each thread can also have its own local state.\n",
    "\n",
    "Since threads can share the same global variables, if global variables are accessed by multiple threads concurrently, then it’s important to use locks (a.k.a. mutexes) to prevent a race condition. The class threading.Lock is one way to implement locks, where global variables can be acquired and released by different threads. When a global variable is acquired by one thread, it is locked and cannot be accessed by another thread until that thread releases it.\n",
    "\n",
    "Different processes cannot share the same global variables (each process actually makes a copy of a global variable if it tries to access it), but if processes need to share data with each other, they can use shared memory queues. The multiprocessing module provides a Queue class that closely resembles Python’s queue.Queue class, which is a FIFO data structure. Different processes can put and get data using multiprocessing.Queue in the same way that a single process can put and get data using queue.Queue, and multiprocessing.Queue uses locks internally on the shared memory, so users don’t have to worry about race conditions when using multiprocessing.Queue."
   ]
  },
  {
   "cell_type": "code",
   "execution_count": 3,
   "id": "d45b2e9f",
   "metadata": {},
   "outputs": [],
   "source": [
    "import time \n",
    "import threading\n",
    "def some_task(): \n",
    "    time.sleep(1) \n",
    "    print(\"Finished task\") \n",
    "    if name == \"main\": \n",
    "        start = time.time() # Create two threads \n",
    "        t1 = threading.Thread(target=some_task) \n",
    "        t2 = threading.Thread(target=some_task) # Start running both threads \n",
    "        t1.start() \n",
    "        t2.start() # Wait until both threads are complete, and join the process into a single thread \n",
    "        t1.join() \n",
    "        t2.join() \n",
    "        end = time.time() \n",
    "        print(f\"Finished process in {end - start} seconds\")"
   ]
  },
  {
   "cell_type": "code",
   "execution_count": 4,
   "id": "bb760995",
   "metadata": {},
   "outputs": [
    {
     "ename": "NameError",
     "evalue": "name 'time' is not defined",
     "output_type": "error",
     "traceback": [
      "\u001b[1;31m---------------------------------------------------------------------------\u001b[0m",
      "\u001b[1;31mNameError\u001b[0m                                 Traceback (most recent call last)",
      "Cell \u001b[1;32mIn[4], line 1\u001b[0m\n\u001b[1;32m----> 1\u001b[0m \u001b[43msome_task\u001b[49m\u001b[43m(\u001b[49m\u001b[43m)\u001b[49m\n",
      "Cell \u001b[1;32mIn[3], line 2\u001b[0m, in \u001b[0;36msome_task\u001b[1;34m()\u001b[0m\n\u001b[0;32m      1\u001b[0m \u001b[38;5;28;01mdef\u001b[39;00m \u001b[38;5;21msome_task\u001b[39m(): \n\u001b[1;32m----> 2\u001b[0m     \u001b[43mtime\u001b[49m\u001b[38;5;241m.\u001b[39msleep(\u001b[38;5;241m1\u001b[39m) \n\u001b[0;32m      3\u001b[0m     \u001b[38;5;28mprint\u001b[39m(\u001b[38;5;124m\"\u001b[39m\u001b[38;5;124mFinished task\u001b[39m\u001b[38;5;124m\"\u001b[39m) \n\u001b[0;32m      4\u001b[0m     \u001b[38;5;28;01mif\u001b[39;00m name \u001b[38;5;241m==\u001b[39m \u001b[38;5;124m\"\u001b[39m\u001b[38;5;124mmain\u001b[39m\u001b[38;5;124m\"\u001b[39m: \n",
      "\u001b[1;31mNameError\u001b[0m: name 'time' is not defined"
     ]
    }
   ],
   "source": [
    "some_task()"
   ]
  },
  {
   "cell_type": "code",
   "execution_count": null,
   "id": "83988ca8",
   "metadata": {},
   "outputs": [],
   "source": []
  }
 ],
 "metadata": {
  "kernelspec": {
   "display_name": "Python 3 (ipykernel)",
   "language": "python",
   "name": "python3"
  },
  "language_info": {
   "codemirror_mode": {
    "name": "ipython",
    "version": 3
   },
   "file_extension": ".py",
   "mimetype": "text/x-python",
   "name": "python",
   "nbconvert_exporter": "python",
   "pygments_lexer": "ipython3",
   "version": "3.9.6"
  }
 },
 "nbformat": 4,
 "nbformat_minor": 5
}
