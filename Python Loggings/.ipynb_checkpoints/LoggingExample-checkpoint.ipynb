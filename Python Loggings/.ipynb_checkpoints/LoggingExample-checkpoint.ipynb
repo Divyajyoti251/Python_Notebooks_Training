{
 "cells": [
  {
   "attachments": {
    "image.png": {
     "image/png": "[encoded data removed]"
    }
   },
   "cell_type": "markdown",
   "id": "b95d4037",
   "metadata": {},
   "source": [
    "# Logging in Python\n",
    "Logging is a means of tracking events that happen when some software runs. Logging is important for software developing, debugging, and running. If you don’t have any logging record and your program crashes, there are very few chances that you detect the cause of the problem. And if you detect the cause, it will consume a lot of time. With logging, you can leave a trail of breadcrumbs so that if something goes wrong, we can determine the cause of the problem. \n",
    "\n",
    "There are a number of situations like if you are expecting an integer, you have been given a float and you can a cloud API, the service is down for maintenance, and much more. Such problems are out of control and are hard to determine. \n",
    "\n",
    "**Why Printing is not a good option?**\n",
    "\n",
    "Some developers use the concept of printing the statements to validate if the statements are executed correctly or some error has occurred. But printing is not a good idea. It may solve your issues for simple scripts but for complex scripts, the printing approach will fail.\n",
    "Python has a built-in module logging which allows writing status messages to a file or any other output streams. The file can contain the information on which part of the code is executed and what problems have been arisen.  \n",
    "\n",
    "**Levels of Log Message**\n",
    "\n",
    "There are five built-in levels of the log message.  \n",
    "\n",
    "\n",
    "    Debug : These are used to give Detailed information, typically of interest only when diagnosing problems.\n",
    "    Info : These are used to confirm that things are working as expected\n",
    "    Warning : These are used an indication that something unexpected happened, or is indicative of some problem in the near                  future\n",
    "    Error : This tells that due to a more serious problem, the software has not been able to perform some function\n",
    "    Critical : This tells serious error, indicating that the program itself may be unable to continue running\n",
    "    If required, developers have the option to create more levels but these are sufficient enough to handle every possible           situation. Each built-in level has been assigned its numeric value.\n",
    "\n",
    "![image.png](attachment:image.png)\n",
    "\n",
    "\n",
    "Logging module is packed with several features. It has several constants, classes, and methods. The items with all caps are constant, the capitalize items are classes and the items which start with lowercase letters are methods. \n",
    "\n",
    "There are several logger objects offered by the module itself.  \n",
    "\n",
    "Logger.info(msg) : This will log a message with level INFO on this logger.\n",
    "Logger.warning(msg) : This will log a message with a level WARNING on this logger.\n",
    "Logger.error(msg) : This will log a message with level ERROR on this logger.\n",
    "Logger.critical(msg) : This will log a message with level CRITICAL on this logger.\n",
    "Logger.log(lvl,msg) : This will Logs a message with integer level lvl on this logger.\n",
    "Logger.exception(msg) : This will log a message with level ERROR on this logger.\n",
    "Logger.setLevel(lvl) : This function sets the threshold of this logger to lvl. This means that all the messages below this level will be ignored.\n",
    "Logger.addFilter(filt) : This adds a specific filter filt into this logger.\n",
    "Logger.removeFilter(filt) : This removes a specific filter filt into this logger.\n",
    "Logger.filter(record) : This method applies the logger’s filter to the record provided and returns True if the record is to be processed. Else, it will return False.\n",
    "Logger.addHandler(hdlr) : This adds a specific handler hdlr to this logger.\n",
    "Logger.removeHandler(hdlr) : This removes a specific handler hdlr into this logger.\n",
    "Logger.hasHandlers() : This checks if the logger has any handler configured or not. \n",
    "The Basics\n",
    "Basics of using the logging module to record the events in a file are very simple. \n",
    "\n",
    "For that, simply import the module from the library.  \n",
    "\n",
    "Create and configure the logger. It can have several parameters. But importantly, pass the name of the file in which you want to record the events.\n",
    "Here the format of the logger can also be set. By default, the file works in append mode but we can change that to write mode if required.\n",
    "Also, the level of the logger can be set which acts as the threshold for tracking based on the numeric values assigned to each level. \n",
    "There are several attributes which can be passed as parameters.\n",
    "The list of all those parameters is given in Python Library. The user can choose the required attribute according to the requirement.\n",
    "After that, create an object and use the various methods as shown in the example."
   ]
  },
  {
   "cell_type": "code",
   "execution_count": 1,
   "id": "1fd00c20",
   "metadata": {},
   "outputs": [
    {
     "name": "stderr",
     "output_type": "stream",
     "text": [
      "2023-06-23 08:38:19,773 - Admin logged in\n"
     ]
    }
   ],
   "source": [
    "import logging\n",
    "\n",
    "logging.basicConfig(format='%(asctime)s - %(message)s', level=logging.INFO)\n",
    "logging.info('Admin logged in')\n",
    " "
   ]
  },
  {
   "cell_type": "code",
   "execution_count": 3,
   "id": "cb2f792f",
   "metadata": {},
   "outputs": [
    {
     "name": "stderr",
     "output_type": "stream",
     "text": [
      "2023-06-23 08:39:38,315 - Harmless debug Message\n",
      "2023-06-23 08:39:38,316 - Just an information\n",
      "2023-06-23 08:39:38,318 - Its a Warning\n",
      "2023-06-23 08:39:38,318 - Did you try to divide by zero\n",
      "2023-06-23 08:39:38,320 - Internet is down\n"
     ]
    }
   ],
   "source": [
    "# importing module\n",
    "import logging\n",
    "\n",
    "# Create and configure logger\n",
    "logging.basicConfig(filename=\"newfile.log\",\n",
    "\t\t\t\t\tformat='%(asctime)s %(message)s',\n",
    "\t\t\t\t\tfilemode='w')\n",
    "\n",
    "# Creating an object\n",
    "logger = logging.getLogger()\n",
    "\n",
    "# Setting the threshold of logger to DEBUG\n",
    "logger.setLevel(logging.DEBUG)\n",
    "\n",
    "# Test messages\n",
    "logger.debug(\"Harmless debug Message\")\n",
    "logger.info(\"Just an information\")\n",
    "logger.warning(\"Its a Warning\")\n",
    "logger.error(\"Did you try to divide by zero\")\n",
    "logger.critical(\"Internet is down\")\n"
   ]
  },
  {
   "cell_type": "code",
   "execution_count": null,
   "id": "3c804b39",
   "metadata": {},
   "outputs": [],
   "source": []
  }
 ],
 "metadata": {
  "kernelspec": {
   "display_name": "Python 3 (ipykernel)",
   "language": "python",
   "name": "python3"
  },
  "language_info": {
   "codemirror_mode": {
    "name": "ipython",
    "version": 3
   },
   "file_extension": ".py",
   "mimetype": "text/x-python",
   "name": "python",
   "nbconvert_exporter": "python",
   "pygments_lexer": "ipython3",
   "version": "3.9.6"
  }
 },
 "nbformat": 4,
 "nbformat_minor": 5
}
